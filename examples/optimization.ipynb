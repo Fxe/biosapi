{
 "cells": [
  {
   "cell_type": "code",
   "execution_count": 1,
   "metadata": {},
   "outputs": [],
   "source": [
    "from IPython.core.display import HTML\n",
    "import logging, json\n",
    "import cobra\n",
    "import biosapi"
   ]
  },
  {
   "cell_type": "code",
   "execution_count": 2,
   "metadata": {},
   "outputs": [],
   "source": [
    "%run ../../scripts/bios_utils.py"
   ]
  },
  {
   "cell_type": "code",
   "execution_count": 3,
   "metadata": {},
   "outputs": [],
   "source": [
    "api = biosapi.BIOS('http://192.168.1.21:8080/biosynth-web-biobase')"
   ]
  },
  {
   "cell_type": "code",
   "execution_count": 5,
   "metadata": {},
   "outputs": [
    {
     "data": {
      "text/plain": [
       "<Response [200]>"
      ]
     },
     "execution_count": 5,
     "metadata": {},
     "output_type": "execute_result"
    }
   ],
   "source": [
    "api.set_annotation_model_compartment('MitoCore', 3781218, 'MITOCHONDRIA')"
   ]
  },
  {
   "cell_type": "code",
   "execution_count": 1,
   "metadata": {},
   "outputs": [],
   "source": [
    "#cmps = api.get_model_compartments('MitoCore')\n",
    "#cmps"
   ]
  },
  {
   "cell_type": "code",
   "execution_count": 11,
   "metadata": {},
   "outputs": [
    {
     "data": {
      "text/plain": [
       "{'entry': 'META:THR',\n",
       " 'database': 'MetaCyc',\n",
       " 'link': {'updated_at': 1566661494766,\n",
       "  'created_at': 1529950300082,\n",
       "  'authors': 'system:1'}}"
      ]
     },
     "execution_count": 11,
     "metadata": {},
     "output_type": "execute_result"
    }
   ],
   "source": [
    "api.get_model_species_annotation('iJW145')['3039335']['annotation']['3855778']"
   ]
  },
  {
   "cell_type": "code",
   "execution_count": 12,
   "metadata": {},
   "outputs": [
    {
     "data": {
      "text/plain": [
       "<Response [200]>"
      ]
     },
     "execution_count": 12,
     "metadata": {},
     "output_type": "execute_result"
    }
   ],
   "source": [
    "api.delete_annotation_model_species('iJW145', 3039335, 'MetaCyc', 'META:THR')"
   ]
  },
  {
   "cell_type": "code",
   "execution_count": 4,
   "metadata": {},
   "outputs": [],
   "source": [
    "model_id = 'iWV1213'"
   ]
  },
  {
   "cell_type": "code",
   "execution_count": 5,
   "metadata": {},
   "outputs": [],
   "source": [
    "model_cmps = api.get_model_compartments(model_id)\n",
    "model_spis = api.get_model_species(model_id)\n",
    "model_rxns = api.get_model_reactions(model_id)\n",
    "model_genes = api.get_model_genes(model_id)"
   ]
  },
  {
   "cell_type": "code",
   "execution_count": 6,
   "metadata": {},
   "outputs": [
    {
     "name": "stderr",
     "output_type": "stream",
     "text": [
      "set()\n"
     ]
    },
    {
     "data": {
      "text/html": [
       "\n",
       "        <table>\n",
       "            <tr>\n",
       "                <td><strong>Name</strong></td>\n",
       "                <td>model</td>\n",
       "            </tr><tr>\n",
       "                <td><strong>Memory address</strong></td>\n",
       "                <td>0x07fb928ffd890</td>\n",
       "            </tr><tr>\n",
       "                <td><strong>Number of metabolites</strong></td>\n",
       "                <td>1413</td>\n",
       "            </tr><tr>\n",
       "                <td><strong>Number of reactions</strong></td>\n",
       "                <td>1326</td>\n",
       "            </tr><tr>\n",
       "                <td><strong>Number of groups</strong></td>\n",
       "                <td>0</td>\n",
       "            </tr><tr>\n",
       "                <td><strong>Objective expression</strong></td>\n",
       "                <td>0</td>\n",
       "            </tr><tr>\n",
       "                <td><strong>Compartments</strong></td>\n",
       "                <td>Peroxisome, Cytoplasm, Mitochondrion, Periplasm, Extracellular</td>\n",
       "            </tr>\n",
       "          </table>"
      ],
      "text/plain": [
       "<Model model at 0x7fb928ffd890>"
      ]
     },
     "execution_count": 6,
     "metadata": {},
     "output_type": "execute_result"
    }
   ],
   "source": [
    "b = biosapi.io.BiosModelToCobraBuilder(model_cmps, model_spis, model_rxns, model_genes)\n",
    "cobra_model = b.build()\n",
    "cobra_model"
   ]
  },
  {
   "cell_type": "code",
   "execution_count": 7,
   "metadata": {},
   "outputs": [],
   "source": [
    "for o in model_spis:\n",
    "    b.convert_modelcompound(o)"
   ]
  },
  {
   "cell_type": "code",
   "execution_count": 10,
   "metadata": {},
   "outputs": [
    {
     "data": {
      "text/plain": [
       "{'major_label': 'MetaboliteSpecie',\n",
       " 'bios_references': [],\n",
       " 'notes': '<notes>\\n          <body xmlns=\"http://www.w3.org/1999/xhtml\">\\n            <p>FORMULA: </p>\\n            <p>CHARGE: 0</p>\\n          </body>\\n        </notes>',\n",
       " 'constant': 'false',\n",
       " 'bios_spi_degree': 0,\n",
       " 'hasOnlySubstanceUnits': 'false',\n",
       " 'created_at': 1545980681050,\n",
       " 'bios_id': 3786546,\n",
       " 'entry': 'species_3981_7@iWV1213',\n",
       " 'proxy': False,\n",
       " 'boundaryCondition': 'false',\n",
       " 'updated_at': 1545980681050,\n",
       " 'compartment': 'c',\n",
       " 'name': 'H2O[c]+[c]'}"
      ]
     },
     "execution_count": 10,
     "metadata": {},
     "output_type": "execute_result"
    }
   ],
   "source": [
    "o"
   ]
  },
  {
   "cell_type": "code",
   "execution_count": null,
   "metadata": {},
   "outputs": [],
   "source": []
  },
  {
   "cell_type": "code",
   "execution_count": null,
   "metadata": {},
   "outputs": [],
   "source": []
  },
  {
   "cell_type": "code",
   "execution_count": 8,
   "metadata": {},
   "outputs": [],
   "source": [
    "cobra_model_sbml = cobra.io.read_sbml_model('/Users/fliu/workspace/jupyter/data/sbml/iMM904/source.xml')"
   ]
  },
  {
   "cell_type": "code",
   "execution_count": 9,
   "metadata": {},
   "outputs": [
    {
     "data": {
      "text/html": [
       "\n",
       "        <table>\n",
       "            <tr>\n",
       "                <td><strong>Name</strong></td>\n",
       "                <td>iMM904</td>\n",
       "            </tr><tr>\n",
       "                <td><strong>Memory address</strong></td>\n",
       "                <td>0x07fa598325cd0</td>\n",
       "            </tr><tr>\n",
       "                <td><strong>Number of metabolites</strong></td>\n",
       "                <td>1226</td>\n",
       "            </tr><tr>\n",
       "                <td><strong>Number of reactions</strong></td>\n",
       "                <td>1577</td>\n",
       "            </tr><tr>\n",
       "                <td><strong>Number of groups</strong></td>\n",
       "                <td>59</td>\n",
       "            </tr><tr>\n",
       "                <td><strong>Objective expression</strong></td>\n",
       "                <td>1.0*BIOMASS_SC5_notrace - 1.0*BIOMASS_SC5_notrace_reverse_93090</td>\n",
       "            </tr><tr>\n",
       "                <td><strong>Compartments</strong></td>\n",
       "                <td>cytosol, mitochondria, extracellular space, peroxisome/glyoxysome, endoplasmic reticulum, vacuole, nucleus, golgi apparatus</td>\n",
       "            </tr>\n",
       "          </table>"
      ],
      "text/plain": [
       "<Model iMM904 at 0x7fa598325cd0>"
      ]
     },
     "execution_count": 9,
     "metadata": {},
     "output_type": "execute_result"
    }
   ],
   "source": [
    "cobra_model_sbml"
   ]
  },
  {
   "cell_type": "code",
   "execution_count": 31,
   "metadata": {},
   "outputs": [],
   "source": [
    "for m in cobra_model.metabolites:\n",
    "    m_other = cobra_model_sbml.metabolites.get_by_id(m.id[2:])\n",
    "    assert(m_other.compartment == m.compartment)\n",
    "    assert(m_other.name == m.name)\n",
    "    assert(len(m_other.reactions) == len(m.reactions))"
   ]
  },
  {
   "cell_type": "code",
   "execution_count": 33,
   "metadata": {},
   "outputs": [],
   "source": [
    "assert(cobra_model.compartments == cobra_model_sbml.compartments)"
   ]
  },
  {
   "cell_type": "code",
   "execution_count": 49,
   "metadata": {},
   "outputs": [],
   "source": [
    "for r in cobra_model.reactions:\n",
    "    r_other = cobra_model_sbml.reactions.get_by_id(r.id[2:])\n",
    "    #print(r_other.name, r.name)\n",
    "    try:\n",
    "        #assert(r_other.name == r.name)\n",
    "        assert(r_other.compartments == r.compartments)\n",
    "    except AssertionError:\n",
    "        print(r.id, r_other.name)\n",
    "        print(r.id, r.name)\n",
    "        pass"
   ]
  },
  {
   "cell_type": "code",
   "execution_count": 50,
   "metadata": {},
   "outputs": [],
   "source": [
    "for o in b.model_rxns:\n",
    "    o"
   ]
  },
  {
   "cell_type": "code",
   "execution_count": 53,
   "metadata": {},
   "outputs": [
    {
     "data": {
      "text/plain": [
       "{'annotation',\n",
       " 'bios_id',\n",
       " 'bios_rxn_gpr_data',\n",
       " 'bios_rxn_gpr_id',\n",
       " 'bios_stoichiometry',\n",
       " 'created_at',\n",
       " 'entry',\n",
       " 'fast',\n",
       " 'id',\n",
       " 'lowerFluxBound',\n",
       " 'major_label',\n",
       " 'metaid',\n",
       " 'name',\n",
       " 'proxy',\n",
       " 'reversible',\n",
       " 'sboTerm',\n",
       " 'updated_at',\n",
       " 'upperFluxBound'}"
      ]
     },
     "execution_count": 53,
     "metadata": {},
     "output_type": "execute_result"
    }
   ],
   "source": [
    "set(o.keys())"
   ]
  },
  {
   "cell_type": "code",
   "execution_count": 95,
   "metadata": {},
   "outputs": [
    {
     "data": {
      "text/html": [
       "{\"proxy\":false,\"entry\":\"SBO:0000627\",\"updated_at\":1545009702844,\"name\":\"exchange reaction\",\"created_at\":1545009702844,\"bios_labels\":[\"SBO\"],\"bios_id\":3780473}"
      ],
      "text/plain": [
       "<IPython.core.display.HTML object>"
      ]
     },
     "execution_count": 95,
     "metadata": {},
     "output_type": "execute_result"
    }
   ],
   "source": [
    "request_url = '{}/api/neo4j/data/{}'.format(api.base_url, 3780473)\n",
    "resp = requests.get(request_url, headers=api.headers)\n",
    "HTML(resp.content.decode('utf-8'))"
   ]
  },
  {
   "cell_type": "code",
   "execution_count": 115,
   "metadata": {},
   "outputs": [
    {
     "name": "stdout",
     "output_type": "stream",
     "text": [
      "None 3154577 Glycoaldehydye reversible transport R_GCALDt\n"
     ]
    }
   ],
   "source": [
    "for rxn in model_rxns:\n",
    "    sbo = get_sbo_terms(rxn['bios_id'])\n",
    "    name = None\n",
    "    if 'name' in rxn:\n",
    "        name = rxn['name']\n",
    "    print(sbo, rxn['bios_id'], name, rxn['id'])\n",
    "    break"
   ]
  },
  {
   "cell_type": "code",
   "execution_count": 109,
   "metadata": {},
   "outputs": [],
   "source": [
    "def get_sbo_terms(node_id):\n",
    "    data = api.get_bios_node_edges(node_id)\n",
    "    sboterms = get_sbo_term(data)\n",
    "    terms = set()\n",
    "    for id in sboterms:\n",
    "        sboterm_id = sboterms[id]['bios_other_node_id']\n",
    "        #print(id, edge_pros)\n",
    "        sboterm = api.get_bios_node(sboterm_id)\n",
    "        print(sboterm)\n",
    "        terms.add(sboterm['entry'])"
   ]
  },
  {
   "cell_type": "code",
   "execution_count": null,
   "metadata": {},
   "outputs": [],
   "source": []
  },
  {
   "cell_type": "code",
   "execution_count": 111,
   "metadata": {},
   "outputs": [],
   "source": [
    "#make this generic to any edge type\n",
    "def get_sbo_term(edge_data):\n",
    "    if 'OUTGOING' in edge_data and 'has_sbo_term' in edge_data['OUTGOING']:\n",
    "        return edge_data['OUTGOING']['has_sbo_term']\n",
    "    return {}"
   ]
  },
  {
   "cell_type": "code",
   "execution_count": null,
   "metadata": {},
   "outputs": [],
   "source": [
    "request_url = '{}/api/model/{}'.format(api.base_url, model_id)\n",
    "resp = requests.get(request_url, headers=api.headers)"
   ]
  },
  {
   "cell_type": "code",
   "execution_count": 13,
   "metadata": {},
   "outputs": [],
   "source": [
    "request_url = '{}/api/model/{}'.format(api.base_url, model_id)\n",
    "resp = requests.get(request_url, headers=api.headers)"
   ]
  },
  {
   "cell_type": "code",
   "execution_count": 35,
   "metadata": {},
   "outputs": [],
   "source": []
  },
  {
   "cell_type": "code",
   "execution_count": 36,
   "metadata": {},
   "outputs": [
    {
     "name": "stderr",
     "output_type": "stream",
     "text": [
      "{'R_BIOMASS_SC5_notrace'}\n"
     ]
    },
    {
     "data": {
      "text/html": [
       "\n",
       "        <table>\n",
       "            <tr>\n",
       "                <td><strong>Name</strong></td>\n",
       "                <td>model</td>\n",
       "            </tr><tr>\n",
       "                <td><strong>Memory address</strong></td>\n",
       "                <td>0x013267755f8</td>\n",
       "            </tr><tr>\n",
       "                <td><strong>Number of metabolites</strong></td>\n",
       "                <td>1226</td>\n",
       "            </tr><tr>\n",
       "                <td><strong>Number of reactions</strong></td>\n",
       "                <td>1577</td>\n",
       "            </tr><tr>\n",
       "                <td><strong>Number of groups</strong></td>\n",
       "                <td>0</td>\n",
       "            </tr><tr>\n",
       "                <td><strong>Objective expression</strong></td>\n",
       "                <td>1.0*R_BIOMASS_SC5_notrace - 1.0*R_BIOMASS_SC5_notrace_reverse_353ca</td>\n",
       "            </tr><tr>\n",
       "                <td><strong>Compartments</strong></td>\n",
       "                <td>c, r, m, e, x, n, v, g</td>\n",
       "            </tr>\n",
       "          </table>"
      ],
      "text/plain": [
       "<Model model at 0x13267755f8>"
      ]
     },
     "execution_count": 36,
     "metadata": {},
     "output_type": "execute_result"
    }
   ],
   "source": []
  },
  {
   "cell_type": "code",
   "execution_count": 41,
   "metadata": {},
   "outputs": [
    {
     "name": "stdout",
     "output_type": "stream",
     "text": [
      "iOD907\n",
      "iNL895\n",
      "iWV1213\n",
      "iRL766\n",
      "iMM904\n",
      "iLC915\n",
      "iJDZ836\n",
      "iMA871\n",
      "iSS884\n",
      "iAL1006\n",
      "iTO977\n",
      "iCT646\n"
     ]
    }
   ],
   "source": [
    "fmodels = [\n",
    "    'iNL895', #\n",
    "    'iCT646', #\n",
    "    'iMM904', #\n",
    "    'iTO977', #\n",
    "    'iSS884', #\n",
    "    'iLC915', #    \n",
    "    'iAL1006', #\n",
    "    'iRL766', #\n",
    "    'iMA871', #\n",
    "    'iJDZ836', #\n",
    "    'iWV1314', #\n",
    "    \n",
    "    'iOD907', ##\n",
    "    'iWV1213',\n",
    "    'iJL1454',\n",
    "    'iNX804',\n",
    "    'yeast_6.06',\n",
    "    'yeast_7.6',\n",
    "]\n",
    "for m in models:\n",
    "    if m['entry'] in fmodels:\n",
    "        print(m['entry'])"
   ]
  },
  {
   "cell_type": "code",
   "execution_count": 7,
   "metadata": {},
   "outputs": [],
   "source": []
  },
  {
   "cell_type": "code",
   "execution_count": 8,
   "metadata": {},
   "outputs": [],
   "source": [
    "request_url = '{}/api/model'.format(api.base_url, model_id)\n",
    "resp = requests.get(request_url, headers=api.headers)\n",
    "models = resp.json()"
   ]
  },
  {
   "cell_type": "code",
   "execution_count": 24,
   "metadata": {},
   "outputs": [],
   "source": []
  },
  {
   "cell_type": "code",
   "execution_count": 26,
   "metadata": {},
   "outputs": [],
   "source": [
    "#models"
   ]
  },
  {
   "cell_type": "code",
   "execution_count": 22,
   "metadata": {},
   "outputs": [],
   "source": [
    "#data = resp.json()"
   ]
  },
  {
   "cell_type": "code",
   "execution_count": 15,
   "metadata": {},
   "outputs": [
    {
     "data": {
      "text/plain": [
       "dict_keys(['id', 'entry', 'name', 'source', 'version', 'description', 'md5', 'reactions', 'metabolites', 'species', 'subcellularCompartments', 'subsystems', 'genes', 'properties'])"
      ]
     },
     "execution_count": 15,
     "metadata": {},
     "output_type": "execute_result"
    }
   ],
   "source": [
    "data.keys()"
   ]
  },
  {
   "cell_type": "code",
   "execution_count": null,
   "metadata": {},
   "outputs": [],
   "source": []
  },
  {
   "cell_type": "code",
   "execution_count": 162,
   "metadata": {},
   "outputs": [],
   "source": [
    "logger = logging.getLogger(__name__)"
   ]
  },
  {
   "cell_type": "code",
   "execution_count": null,
   "metadata": {},
   "outputs": [],
   "source": []
  },
  {
   "cell_type": "code",
   "execution_count": 21,
   "metadata": {},
   "outputs": [
    {
     "name": "stdout",
     "output_type": "stream",
     "text": [
      "IN FLUXES            OUT FLUXES            OBJECTIVES\n",
      "-------------------  --------------------  -------------------\n",
      "M_4abz_e    10       M_asn__L_e    10      R_BIOMASS_SC...  10\n",
      "M_dttp_e    10       M_cys__L_e    10\n",
      "M_gam6p_e   10       M_gal_e       10\n",
      "M_hxan_e    10       M_gln__L_e    10\n",
      "M_iamoh_e   10       M_pi_e        10\n",
      "M_tre_e     10       M_thymd_e     10\n",
      "M_tyr__L_e  10       M_trp__L_e    10\n",
      "M_xtsn_e    10       M_pap_e        9.8\n",
      "M_ocdca_e    9.98    M_ocdcya_e     9.48\n",
      "M_ptrc_e     8.17    M_acald_e      8.09\n",
      "M_ins_e      7.99    M_iamac_e      7.04\n",
      "M_mal__L_e   7.78    M_pyr_e        5.22\n",
      "M_chol_e     6.98    M_g3pc_e       4.75\n",
      "M_nmn_e      6.33    M_Nbfortyr_e   4.49\n",
      "M_lac__L_e   5.12    M_ibutoh_e     4.01\n",
      "M_gthox_e    5       M_nadp_e       3.33\n",
      "M_2mppal_e   4.65    M_asp__L_e     3.26\n",
      "M_uri_e      4.18    M_dad_2_e      3.17\n",
      "M_melib_e    3.5     M_id3acald_e   2.93\n",
      "M_dcyt_e     3.44    M_xylt_e       1.87\n",
      "M_pro__L_e   3.25    M_dgsn_e       1.73\n",
      "M_so3_e      3.02    M_duri_e       1.63\n",
      "M_gly_e      2.96    M_ergst_e      1.24\n",
      "M_lys__L_e   2.86    M_amet_e       1.19\n",
      "M_xan_e      2.21    M_met__L_e     1.06\n",
      "M_3c3hmp_e   2.01    M_rib__D_e     1.02\n",
      "M_ala__L_e   1.99    M_akg_e        0.973\n",
      "M_oaa_e      1.94    M_his__L_e     0.821\n",
      "M_2mbtoh_e   1.87    M_etha_e       0.119\n",
      "M_spmd_e     1.83\n",
      "M_phe__L_e   1.55\n",
      "M_epist_e    1.25\n",
      "M_lanost_e   1.25\n",
      "M_5aop_e     0.275\n",
      "M_fecost_e   0.015\n",
      "M_ribflv_e   0.0099\n"
     ]
    }
   ],
   "source": [
    "cobra_model.summary()"
   ]
  },
  {
   "cell_type": "code",
   "execution_count": null,
   "metadata": {},
   "outputs": [],
   "source": []
  },
  {
   "cell_type": "code",
   "execution_count": 145,
   "metadata": {},
   "outputs": [],
   "source": []
  },
  {
   "cell_type": "code",
   "execution_count": null,
   "metadata": {},
   "outputs": [],
   "source": []
  },
  {
   "cell_type": "code",
   "execution_count": null,
   "metadata": {},
   "outputs": [],
   "source": []
  },
  {
   "cell_type": "code",
   "execution_count": null,
   "metadata": {},
   "outputs": [],
   "source": []
  }
 ],
 "metadata": {
  "kernelspec": {
   "display_name": "Python 3",
   "language": "python",
   "name": "python3"
  },
  "language_info": {
   "codemirror_mode": {
    "name": "ipython",
    "version": 3
   },
   "file_extension": ".py",
   "mimetype": "text/x-python",
   "name": "python",
   "nbconvert_exporter": "python",
   "pygments_lexer": "ipython3",
   "version": "3.7.4"
  }
 },
 "nbformat": 4,
 "nbformat_minor": 4
}
