{
 "cells": [
  {
   "cell_type": "code",
   "execution_count": 1,
   "metadata": {},
   "outputs": [],
   "source": [
    "from IPython.core.display import HTML\n",
    "import logging, json\n",
    "import cobra"
   ]
  },
  {
   "cell_type": "code",
   "execution_count": 2,
   "metadata": {},
   "outputs": [],
   "source": [
    "import biosapi"
   ]
  },
  {
   "cell_type": "code",
   "execution_count": 31,
   "metadata": {},
   "outputs": [],
   "source": [
    "\n",
    "%run ../../scripts/bios_utils.py\n"
   ]
  },
  {
   "cell_type": "code",
   "execution_count": 2,
   "metadata": {},
   "outputs": [],
   "source": [
    "model_id = 'iMM904'"
   ]
  },
  {
   "cell_type": "code",
   "execution_count": 3,
   "metadata": {},
   "outputs": [],
   "source": [
    "\n",
    "api = biosapi.BIOS()"
   ]
  },
  {
   "cell_type": "code",
   "execution_count": null,
   "metadata": {},
   "outputs": [],
   "source": []
  },
  {
   "cell_type": "code",
   "execution_count": 95,
   "metadata": {},
   "outputs": [
    {
     "data": {
      "text/html": [
       "{\"proxy\":false,\"entry\":\"SBO:0000627\",\"updated_at\":1545009702844,\"name\":\"exchange reaction\",\"created_at\":1545009702844,\"bios_labels\":[\"SBO\"],\"bios_id\":3780473}"
      ],
      "text/plain": [
       "<IPython.core.display.HTML object>"
      ]
     },
     "execution_count": 95,
     "metadata": {},
     "output_type": "execute_result"
    }
   ],
   "source": [
    "request_url = '{}/api/neo4j/data/{}'.format(api.base_url, 3780473)\n",
    "resp = requests.get(request_url, headers=api.headers)\n",
    "HTML(resp.content.decode('utf-8'))"
   ]
  },
  {
   "cell_type": "code",
   "execution_count": 115,
   "metadata": {},
   "outputs": [
    {
     "name": "stdout",
     "output_type": "stream",
     "text": [
      "None 3154577 Glycoaldehydye reversible transport R_GCALDt\n"
     ]
    }
   ],
   "source": [
    "for rxn in model_rxns:\n",
    "    sbo = get_sbo_terms(rxn['bios_id'])\n",
    "    name = None\n",
    "    if 'name' in rxn:\n",
    "        name = rxn['name']\n",
    "    print(sbo, rxn['bios_id'], name, rxn['id'])\n",
    "    break"
   ]
  },
  {
   "cell_type": "code",
   "execution_count": 109,
   "metadata": {},
   "outputs": [],
   "source": [
    "def get_sbo_terms(node_id):\n",
    "    data = api.get_bios_node_edges(node_id)\n",
    "    sboterms = get_sbo_term(data)\n",
    "    terms = set()\n",
    "    for id in sboterms:\n",
    "        sboterm_id = sboterms[id]['bios_other_node_id']\n",
    "        #print(id, edge_pros)\n",
    "        sboterm = api.get_bios_node(sboterm_id)\n",
    "        print(sboterm)\n",
    "        terms.add(sboterm['entry'])"
   ]
  },
  {
   "cell_type": "code",
   "execution_count": null,
   "metadata": {},
   "outputs": [],
   "source": []
  },
  {
   "cell_type": "code",
   "execution_count": 111,
   "metadata": {},
   "outputs": [],
   "source": [
    "#make this generic to any edge type\n",
    "def get_sbo_term(edge_data):\n",
    "    if 'OUTGOING' in edge_data and 'has_sbo_term' in edge_data['OUTGOING']:\n",
    "        return edge_data['OUTGOING']['has_sbo_term']\n",
    "    return {}"
   ]
  },
  {
   "cell_type": "code",
   "execution_count": null,
   "metadata": {},
   "outputs": [],
   "source": [
    "request_url = '{}/api/model/{}'.format(api.base_url, model_id)\n",
    "resp = requests.get(request_url, headers=api.headers)"
   ]
  },
  {
   "cell_type": "code",
   "execution_count": 13,
   "metadata": {},
   "outputs": [],
   "source": [
    "request_url = '{}/api/model/{}'.format(api.base_url, model_id)\n",
    "resp = requests.get(request_url, headers=api.headers)"
   ]
  },
  {
   "cell_type": "code",
   "execution_count": 35,
   "metadata": {},
   "outputs": [],
   "source": [
    "\n",
    "model_cmps = api.get_model_compartments(model_id)\n",
    "model_spis = api.get_model_species(model_id)\n",
    "model_rxns = api.get_model_reactions(model_id)\n",
    "model_genes = api.get_model_genes(model_id)"
   ]
  },
  {
   "cell_type": "code",
   "execution_count": 36,
   "metadata": {},
   "outputs": [
    {
     "name": "stderr",
     "output_type": "stream",
     "text": [
      "{'R_BIOMASS_SC5_notrace'}\n"
     ]
    },
    {
     "data": {
      "text/html": [
       "\n",
       "        <table>\n",
       "            <tr>\n",
       "                <td><strong>Name</strong></td>\n",
       "                <td>model</td>\n",
       "            </tr><tr>\n",
       "                <td><strong>Memory address</strong></td>\n",
       "                <td>0x013267755f8</td>\n",
       "            </tr><tr>\n",
       "                <td><strong>Number of metabolites</strong></td>\n",
       "                <td>1226</td>\n",
       "            </tr><tr>\n",
       "                <td><strong>Number of reactions</strong></td>\n",
       "                <td>1577</td>\n",
       "            </tr><tr>\n",
       "                <td><strong>Number of groups</strong></td>\n",
       "                <td>0</td>\n",
       "            </tr><tr>\n",
       "                <td><strong>Objective expression</strong></td>\n",
       "                <td>1.0*R_BIOMASS_SC5_notrace - 1.0*R_BIOMASS_SC5_notrace_reverse_353ca</td>\n",
       "            </tr><tr>\n",
       "                <td><strong>Compartments</strong></td>\n",
       "                <td>c, r, m, e, x, n, v, g</td>\n",
       "            </tr>\n",
       "          </table>"
      ],
      "text/plain": [
       "<Model model at 0x13267755f8>"
      ]
     },
     "execution_count": 36,
     "metadata": {},
     "output_type": "execute_result"
    }
   ],
   "source": [
    "%run ../../scripts/bios_metabolic_model.py\n",
    "cobra_model = BiosModelToCobraBuilder(model_cmps, model_spis, model_rxns, model_gprs).build()\n",
    "cobra_model"
   ]
  },
  {
   "cell_type": "code",
   "execution_count": 41,
   "metadata": {},
   "outputs": [
    {
     "name": "stdout",
     "output_type": "stream",
     "text": [
      "iOD907\n",
      "iNL895\n",
      "iWV1213\n",
      "iRL766\n",
      "iMM904\n",
      "iLC915\n",
      "iJDZ836\n",
      "iMA871\n",
      "iSS884\n",
      "iAL1006\n",
      "iTO977\n",
      "iCT646\n"
     ]
    }
   ],
   "source": [
    "fmodels = [\n",
    "    'iNL895', #\n",
    "    'iCT646', #\n",
    "    'iMM904', #\n",
    "    'iTO977', #\n",
    "    'iSS884', #\n",
    "    'iLC915', #    \n",
    "    'iAL1006', #\n",
    "    'iRL766', #\n",
    "    'iMA871', #\n",
    "    'iJDZ836', #\n",
    "    'iWV1314', #\n",
    "    \n",
    "    'iOD907', ##\n",
    "    'iWV1213',\n",
    "    'iJL1454',\n",
    "    'iNX804',\n",
    "    'yeast_6.06',\n",
    "    'yeast_7.6',\n",
    "]\n",
    "for m in models:\n",
    "    if m['entry'] in fmodels:\n",
    "        print(m['entry'])"
   ]
  },
  {
   "cell_type": "code",
   "execution_count": 7,
   "metadata": {},
   "outputs": [],
   "source": []
  },
  {
   "cell_type": "code",
   "execution_count": 8,
   "metadata": {},
   "outputs": [],
   "source": [
    "request_url = '{}/api/model'.format(api.base_url, model_id)\n",
    "resp = requests.get(request_url, headers=api.headers)\n",
    "models = resp.json()"
   ]
  },
  {
   "cell_type": "code",
   "execution_count": 24,
   "metadata": {},
   "outputs": [],
   "source": []
  },
  {
   "cell_type": "code",
   "execution_count": 26,
   "metadata": {},
   "outputs": [],
   "source": [
    "#models"
   ]
  },
  {
   "cell_type": "code",
   "execution_count": 22,
   "metadata": {},
   "outputs": [],
   "source": [
    "#data = resp.json()"
   ]
  },
  {
   "cell_type": "code",
   "execution_count": 15,
   "metadata": {},
   "outputs": [
    {
     "data": {
      "text/plain": [
       "dict_keys(['id', 'entry', 'name', 'source', 'version', 'description', 'md5', 'reactions', 'metabolites', 'species', 'subcellularCompartments', 'subsystems', 'genes', 'properties'])"
      ]
     },
     "execution_count": 15,
     "metadata": {},
     "output_type": "execute_result"
    }
   ],
   "source": [
    "data.keys()"
   ]
  },
  {
   "cell_type": "code",
   "execution_count": null,
   "metadata": {},
   "outputs": [],
   "source": []
  },
  {
   "cell_type": "code",
   "execution_count": 162,
   "metadata": {},
   "outputs": [],
   "source": [
    "logger = logging.getLogger(__name__)"
   ]
  },
  {
   "cell_type": "code",
   "execution_count": null,
   "metadata": {},
   "outputs": [],
   "source": []
  },
  {
   "cell_type": "code",
   "execution_count": 21,
   "metadata": {},
   "outputs": [
    {
     "name": "stdout",
     "output_type": "stream",
     "text": [
      "IN FLUXES            OUT FLUXES            OBJECTIVES\n",
      "-------------------  --------------------  -------------------\n",
      "M_4abz_e    10       M_asn__L_e    10      R_BIOMASS_SC...  10\n",
      "M_dttp_e    10       M_cys__L_e    10\n",
      "M_gam6p_e   10       M_gal_e       10\n",
      "M_hxan_e    10       M_gln__L_e    10\n",
      "M_iamoh_e   10       M_pi_e        10\n",
      "M_tre_e     10       M_thymd_e     10\n",
      "M_tyr__L_e  10       M_trp__L_e    10\n",
      "M_xtsn_e    10       M_pap_e        9.8\n",
      "M_ocdca_e    9.98    M_ocdcya_e     9.48\n",
      "M_ptrc_e     8.17    M_acald_e      8.09\n",
      "M_ins_e      7.99    M_iamac_e      7.04\n",
      "M_mal__L_e   7.78    M_pyr_e        5.22\n",
      "M_chol_e     6.98    M_g3pc_e       4.75\n",
      "M_nmn_e      6.33    M_Nbfortyr_e   4.49\n",
      "M_lac__L_e   5.12    M_ibutoh_e     4.01\n",
      "M_gthox_e    5       M_nadp_e       3.33\n",
      "M_2mppal_e   4.65    M_asp__L_e     3.26\n",
      "M_uri_e      4.18    M_dad_2_e      3.17\n",
      "M_melib_e    3.5     M_id3acald_e   2.93\n",
      "M_dcyt_e     3.44    M_xylt_e       1.87\n",
      "M_pro__L_e   3.25    M_dgsn_e       1.73\n",
      "M_so3_e      3.02    M_duri_e       1.63\n",
      "M_gly_e      2.96    M_ergst_e      1.24\n",
      "M_lys__L_e   2.86    M_amet_e       1.19\n",
      "M_xan_e      2.21    M_met__L_e     1.06\n",
      "M_3c3hmp_e   2.01    M_rib__D_e     1.02\n",
      "M_ala__L_e   1.99    M_akg_e        0.973\n",
      "M_oaa_e      1.94    M_his__L_e     0.821\n",
      "M_2mbtoh_e   1.87    M_etha_e       0.119\n",
      "M_spmd_e     1.83\n",
      "M_phe__L_e   1.55\n",
      "M_epist_e    1.25\n",
      "M_lanost_e   1.25\n",
      "M_5aop_e     0.275\n",
      "M_fecost_e   0.015\n",
      "M_ribflv_e   0.0099\n"
     ]
    }
   ],
   "source": [
    "cobra_model.summary()"
   ]
  },
  {
   "cell_type": "code",
   "execution_count": null,
   "metadata": {},
   "outputs": [],
   "source": []
  },
  {
   "cell_type": "code",
   "execution_count": 145,
   "metadata": {},
   "outputs": [],
   "source": []
  },
  {
   "cell_type": "code",
   "execution_count": 165,
   "metadata": {},
   "outputs": [
    {
     "name": "stdout",
     "output_type": "stream",
     "text": [
      "IN FLUXES                  OUT FLUXES             OBJECTIVES\n",
      "-------------------------  ---------------------  -------------------\n",
      "M_co2_e          10        M_fru_e     10         R_BIOMASS_SC...  10\n",
      "M_dcyt_e         10        M_nadp_e    10\n",
      "M_fum_e          10        M_thymd_e   10\n",
      "M_glc__D_e       10        M_xylt_e    10\n",
      "M_gua_e          10        M_cit_e      9.8\n",
      "M_ins_e          10        M_pi_e       9.67\n",
      "M_nmn_e          10        M_gsn_e      9.63\n",
      "M_o2_e           10        M_trp__L_e   9.26\n",
      "M_ptrc_e         10        M_gln__L_e   8.77\n",
      "M_sbt__D_e       10        M_amet_e     7.05\n",
      "M_gam6p_e         9.74     M_val__L_e   5.71\n",
      "M_xtsn_e          8.68     M_alltn_e    5.31\n",
      "M_inost_e         8.31     M_4abut_e    5\n",
      "M_ala__L_e        7.49     M_asp__L_e   4.81\n",
      "M_thr__L_e        7.47     M_ura_e      4.67\n",
      "M_3c3hmp_e        6.59     M_cys__L_e   4.38\n",
      "M_pap_e           6        M_iamac_e    2.98\n",
      "M_gthox_e         5        M_chol_e     2.78\n",
      "M_man_e           4.78     M_zymst_e    2.16\n",
      "M_g3pc_e          4.72     M_etha_e     1.81\n",
      "M_pacald_e        4.26     M_ergst_e    1.66\n",
      "M_uri_e           3.92     M_btd_RR_e   1.34\n",
      "M_2phetoh_e       3.87     M_melib_e    1.21\n",
      "M_lanost_e        3.85     M_his__L_e   1.15\n",
      "M_glx_e           3.36     M_malt_e     0.521\n",
      "M_phe__L_e        3.2      M_akg_e      0.51\n",
      "M_lys__L_e        2.86     M_fmn_e      0.333\n",
      "M_dad_2_e         2        M_hexc_e     0.00392\n",
      "M_met__L_e        2        M_pc_SC_e    0.000294\n",
      "M_ile__L_e        1.93\n",
      "M_dttp_e          1.85\n",
      "M_epist_e         1.66\n",
      "M_arg__L_e        1.61\n",
      "M_ser__L_e        1.41\n",
      "M_xan_e           1.32\n",
      "M_nh4_e           0.643\n",
      "M_hdca_e          0.459\n",
      "M_tre_e           0.234\n",
      "M_so4_e           0.2\n",
      "M_ocdcya_e        0.0053\n",
      "M_epistest_SC_e   0.00392\n",
      "M_ddca_e          0.00353\n",
      "M_dca_e           0.00118\n"
     ]
    }
   ],
   "source": []
  },
  {
   "cell_type": "code",
   "execution_count": null,
   "metadata": {},
   "outputs": [],
   "source": []
  },
  {
   "cell_type": "code",
   "execution_count": null,
   "metadata": {},
   "outputs": [],
   "source": []
  }
 ],
 "metadata": {
  "kernelspec": {
   "display_name": "Python 3",
   "language": "python",
   "name": "python3"
  },
  "language_info": {
   "codemirror_mode": {
    "name": "ipython",
    "version": 3
   },
   "file_extension": ".py",
   "mimetype": "text/x-python",
   "name": "python",
   "nbconvert_exporter": "python",
   "pygments_lexer": "ipython3",
   "version": "3.6.5"
  }
 },
 "nbformat": 4,
 "nbformat_minor": 2
}
