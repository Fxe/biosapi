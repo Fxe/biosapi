{
 "cells": [
  {
   "cell_type": "code",
   "execution_count": 1,
   "metadata": {},
   "outputs": [],
   "source": [
    "import biosapi"
   ]
  },
  {
   "cell_type": "code",
   "execution_count": 2,
   "metadata": {},
   "outputs": [],
   "source": [
    "api = biosapi.BIOS()"
   ]
  },
  {
   "cell_type": "code",
   "execution_count": 3,
   "metadata": {},
   "outputs": [],
   "source": [
    "species = api.get_model_species('iYO844')"
   ]
  },
  {
   "cell_type": "code",
   "execution_count": 4,
   "metadata": {},
   "outputs": [
    {
     "data": {
      "text/plain": [
       "{'major_label': 'MetaboliteSpecie',\n",
       " 'annotation': '<annotation>\\n          <rdf:RDF xmlns:rdf=\"http://www.w3.org/1999/02/22-rdf-syntax-ns#\" xmlns:bqbiol=\"http://biomodels.net/biology-qualifiers/\">\\n            <rdf:Description rdf:about=\"#M_acgam_c\">\\n              <bqbiol:is>\\n                <rdf:Bag>\\n                  <rdf:li rdf:resource=\"http://identifiers.org/bigg.metabolite/acgam\"/>\\n                  <rdf:li rdf:resource=\"http://identifiers.org/biocyc/META:N-acetyl-D-glucosamine\"/>\\n                  <rdf:li rdf:resource=\"http://identifiers.org/chebi/CHEBI:12455\"/>\\n                  <rdf:li rdf:resource=\"http://identifiers.org/chebi/CHEBI:12563\"/>\\n                  <rdf:li rdf:resource=\"http://identifiers.org/chebi/CHEBI:17411\"/>\\n                  <rdf:li rdf:resource=\"http://identifiers.org/chebi/CHEBI:21517\"/>\\n                  <rdf:li rdf:resource=\"http://identifiers.org/chebi/CHEBI:506227\"/>\\n                  <rdf:li rdf:resource=\"http://identifiers.org/chebi/CHEBI:58134\"/>\\n                  <rdf:li rdf:resource=\"http://identifiers.org/chebi/CHEBI:7123\"/>\\n                  <rdf:li rdf:resource=\"http://identifiers.org/hmdb/HMDB00215\"/>\\n                  <rdf:li rdf:resource=\"http://identifiers.org/hmdb/HMDB00533\"/>\\n                  <rdf:li rdf:resource=\"http://identifiers.org/hmdb/HMDB14288\"/>\\n                  <rdf:li rdf:resource=\"http://identifiers.org/hmdb/HMDB62641\"/>\\n                  <rdf:li rdf:resource=\"http://identifiers.org/kegg.compound/C00140\"/>\\n                  <rdf:li rdf:resource=\"http://identifiers.org/metanetx.chemical/MNXM143\"/>\\n                  <rdf:li rdf:resource=\"http://identifiers.org/seed.compound/cpd00122\"/>\\n                  <rdf:li rdf:resource=\"http://identifiers.org/seed.compound/cpd27608\"/>\\n                </rdf:Bag>\\n              </bqbiol:is>\\n            </rdf:Description>\\n          </rdf:RDF>\\n        </annotation>',\n",
       " 'bios_references': [['cpd00122', 'ModelSeed'],\n",
       "  ['C00140', 'LigandCompound'],\n",
       "  ['acgam', 'BiGG'],\n",
       "  ['META:N-ACETYL-D-GLUCOSAMINE', 'MetaCyc'],\n",
       "  ['acgam', 'BiGGMetabolite']],\n",
       " 'charge': '0',\n",
       " 'constant': 'false',\n",
       " 'bios_spi_degree': 1,\n",
       " 'metaid': 'M_acgam_c',\n",
       " 'hasOnlySubstanceUnits': 'false',\n",
       " 'created_at': 1529624480264,\n",
       " 'bios_id': 3245505,\n",
       " 'proxy': False,\n",
       " 'entry': 'species_24918_7@iYO844',\n",
       " 'boundaryCondition': 'false',\n",
       " 'updated_at': 1529624480264,\n",
       " 'chemicalFormula': 'C8H15NO6',\n",
       " 'name': 'N-Acetyl-D-glucosamine',\n",
       " 'compartment': 'c',\n",
       " 'id': 'M_acgam_c'}"
      ]
     },
     "execution_count": 4,
     "metadata": {},
     "output_type": "execute_result"
    }
   ],
   "source": [
    "species[0]"
   ]
  },
  {
   "cell_type": "code",
   "execution_count": 6,
   "metadata": {},
   "outputs": [
    {
     "data": {
      "text/plain": [
       "{'id': 'M_s_c',\n",
       " 'entry': 'species_41641_7@iYO844',\n",
       " 'name': 'Sulfur',\n",
       " 'source': None,\n",
       " 'version': None,\n",
       " 'description': '',\n",
       " 'formula': None,\n",
       " 'metaboliteClass': 'COMPOUND',\n",
       " 'comparment': None,\n",
       " 'entityType': None,\n",
       " 'crossreferences': [{'id': 2707419,\n",
       "   'type': 'DATABASE',\n",
       "   'ref': 'ModelSeed',\n",
       "   'value': 'cpd00074',\n",
       "   'source': 'UNKNOWN'},\n",
       "  {'id': 3867656,\n",
       "   'type': 'DATABASE',\n",
       "   'ref': 'MetaCyc',\n",
       "   'value': 'META:Elemental-Sulfur',\n",
       "   'source': 'UNKNOWN'},\n",
       "  {'id': 3934644,\n",
       "   'type': 'DATABASE',\n",
       "   'ref': 'LigandCompound',\n",
       "   'value': 'C00087',\n",
       "   'source': 'UNKNOWN'},\n",
       "  {'id': 2656706,\n",
       "   'type': 'DATABASE',\n",
       "   'ref': 'BiGGMetabolite',\n",
       "   'value': 's',\n",
       "   'source': 'UNKNOWN'},\n",
       "  {'id': 2625814,\n",
       "   'type': 'DATABASE',\n",
       "   'ref': 'BiGG',\n",
       "   'value': 's',\n",
       "   'source': 'UNKNOWN'}],\n",
       " 'properties': {'major_label': 'MetaboliteSpecie',\n",
       "  'annotation': '<annotation>\\n          <rdf:RDF xmlns:rdf=\"http://www.w3.org/1999/02/22-rdf-syntax-ns#\" xmlns:bqbiol=\"http://biomodels.net/biology-qualifiers/\">\\n            <rdf:Description rdf:about=\"#M_s_c\">\\n              <bqbiol:is>\\n                <rdf:Bag>\\n                  <rdf:li rdf:resource=\"http://identifiers.org/bigg.metabolite/s\"/>\\n                  <rdf:li rdf:resource=\"http://identifiers.org/metanetx.chemical/MNXM162285\"/>\\n                  <rdf:li rdf:resource=\"http://identifiers.org/seed.compound/cpd00074\"/>\\n                </rdf:Bag>\\n              </bqbiol:is>\\n            </rdf:Description>\\n          </rdf:RDF>\\n        </annotation>',\n",
       "  'charge': '0',\n",
       "  'constant': 'false',\n",
       "  'metaid': 'M_s_c',\n",
       "  'hasOnlySubstanceUnits': 'false',\n",
       "  'created_at': 1529624481473,\n",
       "  'proxy': False,\n",
       "  'entry': 'species_41641_7@iYO844',\n",
       "  'boundaryCondition': 'false',\n",
       "  'updated_at': 1529624481473,\n",
       "  'chemicalFormula': 'S',\n",
       "  'compartment': 'c',\n",
       "  'name': 'Sulfur',\n",
       "  'id': 'M_s_c'},\n",
       " 'reactionDegree': 1,\n",
       " 'enzymeIdSet': [],\n",
       " 'reactionIdSet': [],\n",
       " 'reactionMap': {},\n",
       " 'enzymeMap': {},\n",
       " 'bios_id': 3246178}"
      ]
     },
     "execution_count": 6,
     "metadata": {},
     "output_type": "execute_result"
    }
   ],
   "source": [
    "api.get_model_specie('iYO844', '3246178')"
   ]
  },
  {
   "cell_type": "code",
   "execution_count": 4,
   "metadata": {},
   "outputs": [],
   "source": [
    "rxn = api.get_model_reaction('iYO844', '3246964')"
   ]
  },
  {
   "cell_type": "code",
   "execution_count": 5,
   "metadata": {},
   "outputs": [
    {
     "data": {
      "text/plain": [
       "{'id': 3246964,\n",
       " 'entry': 'reaction_57988_7@iYO844',\n",
       " 'name': 'EX fol LPAREN e RPAREN ',\n",
       " 'source': None,\n",
       " 'version': None,\n",
       " 'description': '',\n",
       " 'orientation': 'LeftToRight',\n",
       " 'translocation': False,\n",
       " 'reactantStoichiometry': {'3245782': 1.0},\n",
       " 'productStoichiometry': {},\n",
       " 'geneRule': None,\n",
       " 'genes': [],\n",
       " 'lowerBound': None,\n",
       " 'upperBound': None,\n",
       " 'containerReversible': False,\n",
       " 'entityType': 'REACTION',\n",
       " 'subsystem': None,\n",
       " 'left': [],\n",
       " 'right': [],\n",
       " 'crossreferences': [],\n",
       " 'stoichiometry': {'3245782': -1.0},\n",
       " 'rightStoichiometry': {},\n",
       " 'leftStoichiometry': {'3245782': 1.0},\n",
       " 'bios_id': 3246964}"
      ]
     },
     "execution_count": 5,
     "metadata": {},
     "output_type": "execute_result"
    }
   ],
   "source": [
    "rxn.json_data"
   ]
  },
  {
   "cell_type": "code",
   "execution_count": null,
   "metadata": {},
   "outputs": [],
   "source": []
  }
 ],
 "metadata": {
  "kernelspec": {
   "display_name": "Python 3",
   "language": "python",
   "name": "python3"
  },
  "language_info": {
   "codemirror_mode": {
    "name": "ipython",
    "version": 3
   },
   "file_extension": ".py",
   "mimetype": "text/x-python",
   "name": "python",
   "nbconvert_exporter": "python",
   "pygments_lexer": "ipython3",
   "version": "3.6.5"
  }
 },
 "nbformat": 4,
 "nbformat_minor": 2
}
