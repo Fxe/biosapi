{
 "cells": [
  {
   "cell_type": "code",
   "execution_count": 1,
   "metadata": {},
   "outputs": [],
   "source": [
    "import cobra\n",
    "import biosapi\n",
    "import json"
   ]
  },
  {
   "cell_type": "code",
   "execution_count": 2,
   "metadata": {},
   "outputs": [],
   "source": [
    "api = biosapi.BIOS()"
   ]
  },
  {
   "cell_type": "code",
   "execution_count": 3,
   "metadata": {},
   "outputs": [
    {
     "data": {
      "text/plain": [
       "'http://192.168.1.15:8080/biosynth-web-biobase'"
      ]
     },
     "execution_count": 3,
     "metadata": {},
     "output_type": "execute_result"
    }
   ],
   "source": [
    "api.base_url"
   ]
  },
  {
   "cell_type": "code",
   "execution_count": 4,
   "metadata": {},
   "outputs": [
    {
     "name": "stderr",
     "output_type": "stream",
     "text": [
      "{'R_BIOMASS_SC5_notrace'}\n"
     ]
    }
   ],
   "source": [
    "from biosapi.io.bios_model_builder import BiosModelToCobraBuilder\n",
    "b = BiosModelToCobraBuilder.from_api('iMM904', api)\n",
    "model = b.build()"
   ]
  },
  {
   "cell_type": "code",
   "execution_count": null,
   "metadata": {},
   "outputs": [],
   "source": []
  },
  {
   "cell_type": "code",
   "execution_count": null,
   "metadata": {},
   "outputs": [],
   "source": []
  },
  {
   "cell_type": "code",
   "execution_count": null,
   "metadata": {},
   "outputs": [],
   "source": []
  },
  {
   "cell_type": "code",
   "execution_count": null,
   "metadata": {},
   "outputs": [],
   "source": []
  },
  {
   "cell_type": "code",
   "execution_count": null,
   "metadata": {},
   "outputs": [],
   "source": []
  },
  {
   "cell_type": "code",
   "execution_count": null,
   "metadata": {},
   "outputs": [],
   "source": []
  },
  {
   "cell_type": "code",
   "execution_count": 6,
   "metadata": {},
   "outputs": [
    {
     "data": {
      "text/html": [
       "\n",
       "        <table>\n",
       "            <tr>\n",
       "                <td><strong>Metabolite identifier</strong></td><td>M_h2o_m</td>\n",
       "            </tr><tr>\n",
       "                <td><strong>Name</strong></td><td>H2O H2O</td>\n",
       "            </tr><tr>\n",
       "                <td><strong>Memory address</strong></td>\n",
       "                <td>0x07fee10c602d0</td>\n",
       "            </tr><tr>\n",
       "                <td><strong>Formula</strong></td><td>H2O</td>\n",
       "            </tr><tr>\n",
       "                <td><strong>Compartment</strong></td><td>m</td>\n",
       "            </tr><tr>\n",
       "                <td><strong>In 0 reaction(s)</strong></td><td>\n",
       "                    </td>\n",
       "            </tr>\n",
       "        </table>"
      ],
      "text/plain": [
       "<Metabolite M_h2o_m at 0x7fee10c602d0>"
      ]
     },
     "execution_count": 6,
     "metadata": {},
     "output_type": "execute_result"
    }
   ],
   "source": [
    "m = b.convert_modelcompound(b.model_spis[0])\n",
    "m.annotation.update({'omg' : ['a']})\n",
    "m"
   ]
  },
  {
   "cell_type": "code",
   "execution_count": 35,
   "metadata": {},
   "outputs": [],
   "source": [
    "from biosapi.bios_model_mapper import BiosModelMapper"
   ]
  },
  {
   "cell_type": "code",
   "execution_count": 36,
   "metadata": {},
   "outputs": [],
   "source": [
    "mm = BiosModelMapper(api, 'iMM904')"
   ]
  },
  {
   "cell_type": "code",
   "execution_count": 40,
   "metadata": {},
   "outputs": [
    {
     "data": {
      "text/plain": [
       "{'R_CITt2r': 'rxn05211',\n",
       " 'R_CITtam': 'rxn09779',\n",
       " 'R_CITtap': 'rxn09779',\n",
       " 'R_CITtbm': 'rxn09778',\n",
       " 'R_CITtcm': 'rxn09777',\n",
       " 'R_CITtcp': 'rxn09777',\n",
       " 'R_CO2t': 'rxn05467',\n",
       " 'R_CO2tg': 'rxn05467',\n",
       " 'R_CO2tm': 'rxn05467',\n",
       " 'R_CO2tn': 'rxn05467',\n",
       " 'R_CHORM': 'rxn01256',\n",
       " 'R_CHORS': 'rxn01255',\n",
       " 'R_CHRPL': 'rxn00966',\n",
       " 'R_CTPtm': 'rxn13245',\n",
       " 'R_CSm': 'rxn00256',\n",
       " 'R_CSp': 'rxn00256',\n",
       " 'R_CO2tp': 'rxn05467',\n",
       " 'R_CO2tv': 'rxn05467',\n",
       " 'R_COAtim': 'rxn10832',\n",
       " 'R_COAtn': 'rxn10832',\n",
       " 'R_DHQTi': 'rxn02213',\n",
       " 'R_DHAPtm': 'rxn09771',\n",
       " 'R_E4Ptm': 'rxn09765',\n",
       " 'R_ENO': 'rxn00459',\n",
       " 'R_D_LACDm': 'rxn00146',\n",
       " 'R_D_LACt2': 'rxn08350',\n",
       " 'R_D_LACt2m': 'rxn13247',\n",
       " 'R_D_LACtm': 'rxn08350',\n",
       " 'R_DMATT': 'rxn01213',\n",
       " 'R_DPGM': 'rxn01216',\n",
       " 'R_ERGSTt': 'rxn09646',\n",
       " 'R_ERGSTter': 'rxn09646',\n",
       " 'R_ETOHt': 'rxn08428',\n",
       " 'R_ETOHtm': 'rxn08428',\n",
       " 'R_EX_h2o_e': 'rxn15543',\n",
       " 'R_FADFMNtm': 'rxn09755',\n",
       " 'R_FDH': 'rxn00371',\n",
       " 'R_FDNG': 'rxn09525',\n",
       " 'R_FE2t': 'rxn08475',\n",
       " 'R_FE2utm': 'rxn08475',\n",
       " 'R_FEtm': 'rxn08475',\n",
       " 'R_FBA': 'rxn00786',\n",
       " 'R_FBA2': 'rxn01870',\n",
       " 'R_FBA3': 'rxn01334',\n",
       " 'R_FBP': 'rxn00549',\n",
       " 'R_G6PDH2r': 'rxn00604',\n",
       " 'R_G6PI': 'rxn01977',\n",
       " 'R_G6PI3': 'rxn02380',\n",
       " 'R_G3PD1ir': 'rxn00611',\n",
       " 'R_G3PD1irm': 'rxn00611',\n",
       " 'R_G3PDm': 'rxn00616',\n",
       " 'R_G3PT': 'rxn00610',\n",
       " 'R_FRUK': 'rxn01492',\n",
       " 'R_FUM': 'rxn00799',\n",
       " 'R_FUMm': 'rxn00799',\n",
       " 'R_FUMt2r': 'rxn05561',\n",
       " 'R_FMNAT': 'rxn00122',\n",
       " 'R_FMNATm': 'rxn00122',\n",
       " 'R_FORt': 'rxn08525',\n",
       " 'R_FORtm': 'rxn08525',\n",
       " 'R_FRDPtm': 'rxn13290',\n",
       " 'R_FRDcm': 'rxn09753',\n",
       " 'R_FRDm': 'rxn00288',\n",
       " 'R_FRTT': 'rxn01486',\n",
       " 'R_GLCt1': 'rxn08617',\n",
       " 'R_GLCtv': 'rxn08617',\n",
       " 'R_GLNS': 'rxn00187',\n",
       " 'R_GGTT': 'rxn05287',\n",
       " 'R_GK1': 'rxn00239',\n",
       " 'R_GCC2cm_copy1': 'rxn01241',\n",
       " 'R_GDPt3g': 'rxn09705',\n",
       " 'R_GDPtn': 'rxn08600',\n",
       " 'R_GAPD': 'rxn00781',\n",
       " 'R_GND': 'rxn01115',\n",
       " 'R_GRTT': 'rxn01466',\n",
       " 'R_GLYCt': 'rxn05581',\n",
       " 'R_GLYCt2': 'rxn12529',\n",
       " 'R_GLYK': 'rxn00615',\n",
       " 'R_GLYt2m': 'rxn05582',\n",
       " 'R_GLUt7m': 'rxn08633',\n",
       " 'R_GLXt': 'rxn09839',\n",
       " 'R_GLXtp': 'rxn09839',\n",
       " 'R_GLYC3Ptm': 'rxn08643',\n",
       " 'R_GLUDxi': 'rxn00182',\n",
       " 'R_GLUDy': 'rxn00184',\n",
       " 'R_GLUK': 'rxn09502',\n",
       " 'R_GLUN': 'rxn00189',\n",
       " 'R_GLUSx': 'rxn00069',\n",
       " 'R_HCO3E': 'rxn00102',\n",
       " 'R_HCO3Em': 'rxn00102',\n",
       " 'R_HCO3En': 'rxn00102',\n",
       " 'R_HCO3tn': 'rxn10826',\n",
       " 'R_HEX1': 'rxn00216',\n",
       " 'R_H2Otn': 'rxn05319',\n",
       " 'R_H2Otp': 'rxn05319',\n",
       " 'R_H2Otv': 'rxn05319',\n",
       " 'R_H2Ot': 'rxn05319',\n",
       " 'R_H2Oter': 'rxn05319',\n",
       " 'R_H2Otm': 'rxn05319',\n",
       " 'R_ICDHxm': 'rxn00505',\n",
       " 'R_ICDHyr': 'rxn00198',\n",
       " 'R_ICDHym': 'rxn00198',\n",
       " 'R_ICDHyp': 'rxn00198',\n",
       " 'R_HMBS': 'rxn00060',\n",
       " 'R_IPDDI': 'rxn00830',\n",
       " 'R_IPDPtm': 'rxn13332',\n",
       " 'R_ILEtmi': 'rxn08747',\n",
       " 'R_ICL': 'rxn00336',\n",
       " 'R_IG3PS': 'rxn03135',\n",
       " 'R_ILETAm': 'rxn01575',\n",
       " 'R_L_LACt2r': 'rxn05602',\n",
       " 'R_L_LACtm': 'rxn05602',\n",
       " 'R_MALOAAtp': 'rxn09836',\n",
       " 'R_MALS': 'rxn00330',\n",
       " 'R_MALSp': 'rxn00330',\n",
       " 'R_MALt2r': 'rxn05605',\n",
       " 'R_MALtm': 'rxn09739',\n",
       " 'R_LNSTLS': 'rxn02290',\n",
       " 'R_LYSt2m': 'rxn08854',\n",
       " 'R_LYSt2r': 'rxn08854',\n",
       " 'R_LYSt6': 'rxn05305',\n",
       " 'R_KYN': 'rxn00728',\n",
       " 'R_LALDO3': 'rxn01618',\n",
       " 'R_LCADi': 'rxn01053',\n",
       " 'R_MGSA': 'rxn00748',\n",
       " 'R_MDHp': 'rxn00248',\n",
       " 'R_ME1m': 'rxn00159',\n",
       " 'R_ME2m': 'rxn00161',\n",
       " 'R_MCITL2m': 'rxn00289',\n",
       " 'R_MDH': 'rxn00248',\n",
       " 'R_MDHm': 'rxn00248',\n",
       " 'R_NADKm': 'rxn00077',\n",
       " 'R_NADPPPS': 'rxn00088',\n",
       " 'R_NADPPPSm': 'rxn00088',\n",
       " 'R_NADPt': 'rxn13360',\n",
       " 'R_NADtn': 'rxn13361',\n",
       " 'R_NADH2_u6cm': 'rxn09524',\n",
       " 'R_NADH2_u6m': 'rxn09523',\n",
       " 'R_NADK': 'rxn00077',\n",
       " 'R_NH4t': 'rxn05466',\n",
       " 'R_NH4ti': 'rxn05466',\n",
       " 'R_NH4tm': 'rxn05466',\n",
       " 'R_NH4tn': 'rxn05466',\n",
       " 'R_NH4tp': 'rxn05466',\n",
       " 'R_NDP1': 'rxn00092',\n",
       " 'R_NDP3': 'rxn00236',\n",
       " 'R_NDP7': 'rxn00116',\n",
       " 'R_PC': 'rxn00250',\n",
       " 'R_O2ter': 'rxn05468',\n",
       " 'R_O2tm': 'rxn05468',\n",
       " 'R_OAAt': 'rxn13365',\n",
       " 'R_OAAt2m': 'rxn09733',\n",
       " 'R_PGM': 'rxn01106',\n",
       " 'R_PHETA1': 'rxn00493',\n",
       " 'R_PFK': 'rxn00545',\n",
       " 'R_PFK_3': 'rxn01343',\n",
       " 'R_PGCD': 'rxn01101',\n",
       " 'R_PGI': 'rxn00558',\n",
       " 'R_PGK': 'rxn01100',\n",
       " 'R_PGL': 'rxn01476',\n",
       " 'R_GCC2cm_copy2': 'rxn01241',\n",
       " 'R_PDHm': 'rxn00154',\n",
       " 'R_PENDPtm': 'rxn13376',\n",
       " 'R_PPBNGS': 'rxn00029',\n",
       " 'R_PPCK': 'rxn00247',\n",
       " 'R_PPNDH': 'rxn01000',\n",
       " 'R_PPTTm': 'rxn03892',\n",
       " 'R_PPA': 'rxn00001',\n",
       " 'R_PPAm': 'rxn00001',\n",
       " 'R_PIt2m': 'rxn05312',\n",
       " 'R_PIt2n': 'rxn05312',\n",
       " 'R_PIt2p': 'rxn05312',\n",
       " 'R_PIt2r': 'rxn05312',\n",
       " 'R_PIt2v': 'rxn05312',\n",
       " 'R_PSERT': 'rxn02914',\n",
       " 'R_PSP_L': 'rxn00420',\n",
       " 'R_PRPPS': 'rxn00770',\n",
       " 'R_PSCVT': 'rxn02476',\n",
       " 'R_PRAMPC': 'rxn02835',\n",
       " 'R_PRATPP': 'rxn02834',\n",
       " 'R_PRMICI': 'rxn03175',\n",
       " 'R_RPE': 'rxn01116',\n",
       " 'R_RPI': 'rxn00777',\n",
       " 'R_RIBFLVt2': 'rxn05645',\n",
       " 'R_RIBFLVtm': 'rxn05224',\n",
       " 'R_PYRDC': 'rxn00168',\n",
       " 'R_PYRDC2': 'rxn13394',\n",
       " 'R_PYRt': 'rxn09218',\n",
       " 'R_PYRt2': 'rxn05469',\n",
       " 'R_PYRt2m': 'rxn05469',\n",
       " 'R_PYRt2p': 'rxn05469',\n",
       " 'R_QULNS': 'rxn02988',\n",
       " 'R_RBFK': 'rxn00392',\n",
       " 'R_RBFKm': 'rxn00392',\n",
       " 'R_PYK': 'rxn00148',\n",
       " 'R_SQ23EPXter': 'rxn09640',\n",
       " 'R_SQLEr': 'rxn02063',\n",
       " 'R_SQLErx': 'rxn13399',\n",
       " 'R_SQLS': 'rxn04147',\n",
       " 'R_SQLter': 'rxn09639',\n",
       " 'R_SERD_L': 'rxn00165',\n",
       " 'R_SHK3Dr': 'rxn01740',\n",
       " 'R_SHKK': 'rxn01739',\n",
       " 'R_THRA': 'rxn00541',\n",
       " 'R_THMPPt2m': 'rxn13096',\n",
       " 'R_TALA': 'rxn01333',\n",
       " 'R_SUCCt2r': 'rxn05654',\n",
       " 'R_SUCCtm': 'rxn09713',\n",
       " 'R_SUCD1m': 'rxn00288',\n",
       " 'R_SUCD2_u6m': 'rxn09417',\n",
       " 'R_SUCD3_u6m': 'rxn09522',\n",
       " 'R_SUCFUMtm': 'rxn09273',\n",
       " 'R_SUCOASm': 'rxn00285',\n",
       " 'R_TRPO2': 'rxn25059',\n",
       " 'R_TPI': 'rxn00747',\n",
       " 'R_TRE6PP': 'rxn02004',\n",
       " 'R_TRE6PS': 'rxn00605',\n",
       " 'R_TREH': 'rxn00007',\n",
       " 'R_TREt2': 'rxn09655',\n",
       " 'R_TKT1': 'rxn01200',\n",
       " 'R_TKT2': 'rxn00785',\n",
       " 'R_VALTAim': 'rxn00903',\n",
       " 'R_VALt2m': 'rxn05669',\n",
       " 'R_VALt2r': 'rxn05669',\n",
       " 'R_UREA2t2': 'rxn09653',\n",
       " 'R_UGLYCH': 'rxn00327',\n",
       " 'R_UMPK': 'rxn00119',\n",
       " 'R_4HBZtm': 'rxn09792',\n",
       " 'R_ACOAHim': 'rxn00170',\n",
       " 'R_ACALDCD': 'rxn13211',\n",
       " 'R_ACALDt': 'rxn08032',\n",
       " 'R_ACALDtm': 'rxn08032',\n",
       " 'R_ACCOACrm': 'rxn00533',\n",
       " 'R_ACCOAtn': 'rxn13213',\n",
       " 'R_ACACT1r': 'rxn00178',\n",
       " 'R_ACACT1m': 'rxn00178',\n",
       " 'R_5AOPtm': 'rxn09790',\n",
       " 'R_ADK1': 'rxn11199',\n",
       " 'R_ADK1m': 'rxn11199',\n",
       " 'R_ACP1e': 'rxn00391',\n",
       " 'R_ACS': 'rxn00175',\n",
       " 'R_ACSm': 'rxn00175',\n",
       " 'R_ACSp': 'rxn00175',\n",
       " 'R_ACt2r': 'rxn05488',\n",
       " 'R_ACtm': 'rxn08063',\n",
       " 'R_ACtp': 'rxn08063',\n",
       " 'R_ACtr': 'rxn08063',\n",
       " 'R_ACONT': 'rxn00973',\n",
       " 'R_ACONTm': 'rxn00973',\n",
       " 'R_ALASm': 'rxn00599',\n",
       " 'R_ALATA_L': 'rxn00191',\n",
       " 'R_ALATA_Lm': 'rxn00191',\n",
       " 'R_ALAtmi': 'rxn08104',\n",
       " 'R_ALCD19y': 'rxn00765',\n",
       " 'R_AKGDam': 'rxn01243',\n",
       " 'R_AKGDbm': 'rxn01872',\n",
       " 'R_AKGMAL': 'rxn09699',\n",
       " 'R_AKGt2n': 'rxn05493',\n",
       " 'R_AKGt2r': 'rxn05493',\n",
       " 'R_AKGtp': 'rxn08096',\n",
       " 'R_AGTi': 'rxn00272',\n",
       " 'R_AMPtn': 'rxn08134',\n",
       " 'R_ANS': 'rxn00727',\n",
       " 'R_ALDD2xm': 'rxn00506',\n",
       " 'R_ALDD2y': 'rxn00507',\n",
       " 'R_ALDD2ym': 'rxn00507',\n",
       " 'R_ALLTAHr': 'rxn01746',\n",
       " 'R_ALLTTti': 'rxn09697',\n",
       " 'R_ALCD2x_copy1': 'rxn00543',\n",
       " 'R_ALCD2ir': 'rxn00543',\n",
       " 'R_ALCD2irm': 'rxn00543',\n",
       " 'R_ALCD2x_copy2': 'rxn00543',\n",
       " 'R_ASPTAm': 'rxn00260',\n",
       " 'R_ASPt2m': 'rxn05217',\n",
       " 'R_ASPGLU2m': 'rxn09865',\n",
       " 'R_ASPTA': 'rxn00260',\n",
       " 'R_ASNN': 'rxn00342',\n",
       " 'R_ASNS1': 'rxn00416',\n",
       " 'R_CAT': 'rxn00006',\n",
       " 'R_ATPS3m': 'rxn09528',\n",
       " 'R_ATPS3v': 'rxn09528',\n",
       " 'R_ATPtm_H': 'rxn09780',\n",
       " 'R_ATPtp_H': 'rxn09780',\n",
       " 'R_BTDD_RR': 'rxn02112',\n",
       " 'R_BTNt2i': 'rxn09693',\n",
       " 'R_ATP2tp_H': 'rxn09864',\n",
       " 'R_ATPH1': 'rxn00061',\n",
       " 'R_ATPM': 'rxn00062',\n",
       " 'R_ATPPRT': 'rxn00789',\n",
       " 'R_ATPS': 'rxn09694',\n",
       " 'R_ATPS3g': 'rxn09528'}"
      ]
     },
     "execution_count": 40,
     "metadata": {},
     "output_type": "execute_result"
    }
   ],
   "source": []
  },
  {
   "cell_type": "code",
   "execution_count": 25,
   "metadata": {},
   "outputs": [],
   "source": [
    "if 'bios_references' in b.model_rxns[0]:\n",
    "    for o in b.model_rxns[0]['bios_references']:\n",
    "        print(o)"
   ]
  },
  {
   "cell_type": "code",
   "execution_count": null,
   "metadata": {},
   "outputs": [],
   "source": [
    "api.get_model_species_annotation('')"
   ]
  },
  {
   "cell_type": "code",
   "execution_count": 7,
   "metadata": {},
   "outputs": [
    {
     "ename": "NameError",
     "evalue": "name 'ApiError' is not defined",
     "output_type": "error",
     "traceback": [
      "\u001b[0;31m---------------------------------------------------------------------------\u001b[0m",
      "\u001b[0;31mNameError\u001b[0m                                 Traceback (most recent call last)",
      "\u001b[0;32m<ipython-input-7-34242ecbfc9f>\u001b[0m in \u001b[0;36m<module>\u001b[0;34m\u001b[0m\n\u001b[0;32m----> 1\u001b[0;31m \u001b[0mapi\u001b[0m\u001b[0;34m.\u001b[0m\u001b[0mget_model_reactions_by_database_id\u001b[0m\u001b[0;34m(\u001b[0m\u001b[0;34m'KEGG'\u001b[0m\u001b[0;34m,\u001b[0m \u001b[0;34m'LigandReaction'\u001b[0m\u001b[0;34m,\u001b[0m \u001b[0;34m'R00200'\u001b[0m\u001b[0;34m)\u001b[0m\u001b[0;34m\u001b[0m\u001b[0;34m\u001b[0m\u001b[0m\n\u001b[0m",
      "\u001b[0;32m~/opt/anaconda3/lib/python3.7/site-packages/biosapi/api.py\u001b[0m in \u001b[0;36mget_model_reactions_by_database_id\u001b[0;34m(self, model_id, rxn_id, database)\u001b[0m\n\u001b[1;32m    212\u001b[0m         \u001b[0mresp\u001b[0m \u001b[0;34m=\u001b[0m \u001b[0mrequests\u001b[0m\u001b[0;34m.\u001b[0m\u001b[0mget\u001b[0m\u001b[0;34m(\u001b[0m\u001b[0murl\u001b[0m\u001b[0;34m,\u001b[0m \u001b[0mheaders\u001b[0m\u001b[0;34m=\u001b[0m\u001b[0mself\u001b[0m\u001b[0;34m.\u001b[0m\u001b[0mheaders\u001b[0m\u001b[0;34m)\u001b[0m\u001b[0;34m\u001b[0m\u001b[0;34m\u001b[0m\u001b[0m\n\u001b[1;32m    213\u001b[0m         \u001b[0;32mif\u001b[0m \u001b[0mresp\u001b[0m\u001b[0;34m.\u001b[0m\u001b[0mstatus_code\u001b[0m \u001b[0;34m!=\u001b[0m \u001b[0;36m200\u001b[0m\u001b[0;34m:\u001b[0m\u001b[0;34m\u001b[0m\u001b[0;34m\u001b[0m\u001b[0m\n\u001b[0;32m--> 214\u001b[0;31m             \u001b[0;32mraise\u001b[0m \u001b[0mApiError\u001b[0m\u001b[0;34m(\u001b[0m\u001b[0;34m'GET api/model/{}/rxnref/{}/{}'\u001b[0m\u001b[0;34m.\u001b[0m\u001b[0mformat\u001b[0m\u001b[0;34m(\u001b[0m\u001b[0mmodel_id\u001b[0m\u001b[0;34m,\u001b[0m \u001b[0mdatabase\u001b[0m\u001b[0;34m,\u001b[0m \u001b[0mrxn_id\u001b[0m\u001b[0;34m,\u001b[0m \u001b[0mresp\u001b[0m\u001b[0;34m.\u001b[0m\u001b[0mstatus_code\u001b[0m\u001b[0;34m)\u001b[0m\u001b[0;34m)\u001b[0m\u001b[0;34m\u001b[0m\u001b[0;34m\u001b[0m\u001b[0m\n\u001b[0m\u001b[1;32m    215\u001b[0m         \u001b[0mresp_json\u001b[0m \u001b[0;34m=\u001b[0m \u001b[0mresp\u001b[0m\u001b[0;34m.\u001b[0m\u001b[0mjson\u001b[0m\u001b[0;34m(\u001b[0m\u001b[0;34m)\u001b[0m\u001b[0;34m\u001b[0m\u001b[0;34m\u001b[0m\u001b[0m\n\u001b[1;32m    216\u001b[0m         \u001b[0mres\u001b[0m \u001b[0;34m=\u001b[0m \u001b[0;34m[\u001b[0m\u001b[0;34m]\u001b[0m\u001b[0;34m\u001b[0m\u001b[0;34m\u001b[0m\u001b[0m\n",
      "\u001b[0;31mNameError\u001b[0m: name 'ApiError' is not defined"
     ]
    }
   ],
   "source": [
    "api.get_model_reactions_by_database_id('KEGG', 'LigandReaction', 'R00200')"
   ]
  },
  {
   "cell_type": "code",
   "execution_count": 22,
   "metadata": {},
   "outputs": [
    {
     "ename": "NameError",
     "evalue": "name 'BiosModelReaction' is not defined",
     "output_type": "error",
     "traceback": [
      "\u001b[0;31m---------------------------------------------------------------------------\u001b[0m",
      "\u001b[0;31mNameError\u001b[0m                                 Traceback (most recent call last)",
      "\u001b[0;32m<ipython-input-22-0235c3a6f107>\u001b[0m in \u001b[0;36m<module>\u001b[0;34m\u001b[0m\n\u001b[1;32m      7\u001b[0m     \u001b[0;31m#data['id'] = data['properties']['id']\u001b[0m\u001b[0;34m\u001b[0m\u001b[0;34m\u001b[0m\u001b[0;34m\u001b[0m\u001b[0m\n\u001b[1;32m      8\u001b[0m     \u001b[0;32mreturn\u001b[0m \u001b[0mBiosModelReaction\u001b[0m\u001b[0;34m(\u001b[0m\u001b[0mdata\u001b[0m\u001b[0;34m)\u001b[0m\u001b[0;34m\u001b[0m\u001b[0;34m\u001b[0m\u001b[0m\n\u001b[0;32m----> 9\u001b[0;31m \u001b[0mget_model_reaction\u001b[0m\u001b[0;34m(\u001b[0m\u001b[0mapi\u001b[0m\u001b[0;34m,\u001b[0m \u001b[0;34m'iMM904'\u001b[0m\u001b[0;34m,\u001b[0m \u001b[0;34m'3153491'\u001b[0m\u001b[0;34m)\u001b[0m\u001b[0;34m\u001b[0m\u001b[0;34m\u001b[0m\u001b[0m\n\u001b[0m",
      "\u001b[0;32m<ipython-input-22-0235c3a6f107>\u001b[0m in \u001b[0;36mget_model_reaction\u001b[0;34m(api, model_id, rxn_id)\u001b[0m\n\u001b[1;32m      6\u001b[0m     \u001b[0mdata\u001b[0m\u001b[0;34m[\u001b[0m\u001b[0;34m'bios_id'\u001b[0m\u001b[0;34m]\u001b[0m \u001b[0;34m=\u001b[0m \u001b[0mdata\u001b[0m\u001b[0;34m[\u001b[0m\u001b[0;34m'id'\u001b[0m\u001b[0;34m]\u001b[0m\u001b[0;34m\u001b[0m\u001b[0;34m\u001b[0m\u001b[0m\n\u001b[1;32m      7\u001b[0m     \u001b[0;31m#data['id'] = data['properties']['id']\u001b[0m\u001b[0;34m\u001b[0m\u001b[0;34m\u001b[0m\u001b[0;34m\u001b[0m\u001b[0m\n\u001b[0;32m----> 8\u001b[0;31m     \u001b[0;32mreturn\u001b[0m \u001b[0mBiosModelReaction\u001b[0m\u001b[0;34m(\u001b[0m\u001b[0mdata\u001b[0m\u001b[0;34m)\u001b[0m\u001b[0;34m\u001b[0m\u001b[0;34m\u001b[0m\u001b[0m\n\u001b[0m\u001b[1;32m      9\u001b[0m \u001b[0mget_model_reaction\u001b[0m\u001b[0;34m(\u001b[0m\u001b[0mapi\u001b[0m\u001b[0;34m,\u001b[0m \u001b[0;34m'iMM904'\u001b[0m\u001b[0;34m,\u001b[0m \u001b[0;34m'3153491'\u001b[0m\u001b[0;34m)\u001b[0m\u001b[0;34m\u001b[0m\u001b[0;34m\u001b[0m\u001b[0m\n",
      "\u001b[0;31mNameError\u001b[0m: name 'BiosModelReaction' is not defined"
     ]
    }
   ],
   "source": [
    "import requests\n",
    "def get_model_reaction(api, model_id, rxn_id):\n",
    "    request_url = '{}/api/model/{}/rxn/{}'.format(api.base_url, model_id, rxn_id)\n",
    "    resp = requests.get(request_url, headers=api.headers)\n",
    "    data = resp.json()\n",
    "    data['bios_id'] = data['id']\n",
    "    #data['id'] = data['properties']['id']\n",
    "    return BiosModelReaction(data)\n",
    "get_model_reaction(api, 'iMM904', '3153491')"
   ]
  },
  {
   "cell_type": "code",
   "execution_count": 27,
   "metadata": {},
   "outputs": [
    {
     "ename": "JSONDecodeError",
     "evalue": "Expecting value: line 1 column 1 (char 0)",
     "output_type": "error",
     "traceback": [
      "\u001b[0;31m---------------------------------------------------------------------------\u001b[0m",
      "\u001b[0;31mJSONDecodeError\u001b[0m                           Traceback (most recent call last)",
      "\u001b[0;32m<ipython-input-27-d754cba88bf1>\u001b[0m in \u001b[0;36m<module>\u001b[0;34m\u001b[0m\n\u001b[0;32m----> 1\u001b[0;31m \u001b[0mapi\u001b[0m\u001b[0;34m.\u001b[0m\u001b[0mget_model_reaction\u001b[0m\u001b[0;34m(\u001b[0m\u001b[0;34m'iMM904'\u001b[0m\u001b[0;34m,\u001b[0m \u001b[0;34m'R_2MPPALt'\u001b[0m\u001b[0;34m)\u001b[0m\u001b[0;34m\u001b[0m\u001b[0;34m\u001b[0m\u001b[0m\n\u001b[0m",
      "\u001b[0;32m~/opt/anaconda3/lib/python3.7/site-packages/biosapi/api.py\u001b[0m in \u001b[0;36mget_model_reaction\u001b[0;34m(self, model_id, rxn_id)\u001b[0m\n\u001b[1;32m    246\u001b[0m         \u001b[0mrequest_url\u001b[0m \u001b[0;34m=\u001b[0m \u001b[0;34m'{}/api/model/{}/rxn/{}'\u001b[0m\u001b[0;34m.\u001b[0m\u001b[0mformat\u001b[0m\u001b[0;34m(\u001b[0m\u001b[0mself\u001b[0m\u001b[0;34m.\u001b[0m\u001b[0mbase_url\u001b[0m\u001b[0;34m,\u001b[0m \u001b[0mmodel_id\u001b[0m\u001b[0;34m,\u001b[0m \u001b[0mrxn_id\u001b[0m\u001b[0;34m)\u001b[0m\u001b[0;34m\u001b[0m\u001b[0;34m\u001b[0m\u001b[0m\n\u001b[1;32m    247\u001b[0m         \u001b[0mresp\u001b[0m \u001b[0;34m=\u001b[0m \u001b[0mrequests\u001b[0m\u001b[0;34m.\u001b[0m\u001b[0mget\u001b[0m\u001b[0;34m(\u001b[0m\u001b[0mrequest_url\u001b[0m\u001b[0;34m,\u001b[0m \u001b[0mheaders\u001b[0m\u001b[0;34m=\u001b[0m\u001b[0mself\u001b[0m\u001b[0;34m.\u001b[0m\u001b[0mheaders\u001b[0m\u001b[0;34m)\u001b[0m\u001b[0;34m\u001b[0m\u001b[0;34m\u001b[0m\u001b[0m\n\u001b[0;32m--> 248\u001b[0;31m         \u001b[0mdata\u001b[0m \u001b[0;34m=\u001b[0m \u001b[0mresp\u001b[0m\u001b[0;34m.\u001b[0m\u001b[0mjson\u001b[0m\u001b[0;34m(\u001b[0m\u001b[0;34m)\u001b[0m\u001b[0;34m\u001b[0m\u001b[0;34m\u001b[0m\u001b[0m\n\u001b[0m\u001b[1;32m    249\u001b[0m         \u001b[0mdata\u001b[0m\u001b[0;34m[\u001b[0m\u001b[0;34m'bios_id'\u001b[0m\u001b[0;34m]\u001b[0m \u001b[0;34m=\u001b[0m \u001b[0mdata\u001b[0m\u001b[0;34m[\u001b[0m\u001b[0;34m'id'\u001b[0m\u001b[0;34m]\u001b[0m\u001b[0;34m\u001b[0m\u001b[0;34m\u001b[0m\u001b[0m\n\u001b[1;32m    250\u001b[0m         \u001b[0;31m#data['id'] = data['properties']['id']\u001b[0m\u001b[0;34m\u001b[0m\u001b[0;34m\u001b[0m\u001b[0;34m\u001b[0m\u001b[0m\n",
      "\u001b[0;32m~/opt/anaconda3/lib/python3.7/site-packages/requests/models.py\u001b[0m in \u001b[0;36mjson\u001b[0;34m(self, **kwargs)\u001b[0m\n\u001b[1;32m    895\u001b[0m                     \u001b[0;31m# used.\u001b[0m\u001b[0;34m\u001b[0m\u001b[0;34m\u001b[0m\u001b[0;34m\u001b[0m\u001b[0m\n\u001b[1;32m    896\u001b[0m                     \u001b[0;32mpass\u001b[0m\u001b[0;34m\u001b[0m\u001b[0;34m\u001b[0m\u001b[0m\n\u001b[0;32m--> 897\u001b[0;31m         \u001b[0;32mreturn\u001b[0m \u001b[0mcomplexjson\u001b[0m\u001b[0;34m.\u001b[0m\u001b[0mloads\u001b[0m\u001b[0;34m(\u001b[0m\u001b[0mself\u001b[0m\u001b[0;34m.\u001b[0m\u001b[0mtext\u001b[0m\u001b[0;34m,\u001b[0m \u001b[0;34m**\u001b[0m\u001b[0mkwargs\u001b[0m\u001b[0;34m)\u001b[0m\u001b[0;34m\u001b[0m\u001b[0;34m\u001b[0m\u001b[0m\n\u001b[0m\u001b[1;32m    898\u001b[0m \u001b[0;34m\u001b[0m\u001b[0m\n\u001b[1;32m    899\u001b[0m     \u001b[0;34m@\u001b[0m\u001b[0mproperty\u001b[0m\u001b[0;34m\u001b[0m\u001b[0;34m\u001b[0m\u001b[0m\n",
      "\u001b[0;32m~/opt/anaconda3/lib/python3.7/json/__init__.py\u001b[0m in \u001b[0;36mloads\u001b[0;34m(s, encoding, cls, object_hook, parse_float, parse_int, parse_constant, object_pairs_hook, **kw)\u001b[0m\n\u001b[1;32m    346\u001b[0m             \u001b[0mparse_int\u001b[0m \u001b[0;32mis\u001b[0m \u001b[0;32mNone\u001b[0m \u001b[0;32mand\u001b[0m \u001b[0mparse_float\u001b[0m \u001b[0;32mis\u001b[0m \u001b[0;32mNone\u001b[0m \u001b[0;32mand\u001b[0m\u001b[0;34m\u001b[0m\u001b[0;34m\u001b[0m\u001b[0m\n\u001b[1;32m    347\u001b[0m             parse_constant is None and object_pairs_hook is None and not kw):\n\u001b[0;32m--> 348\u001b[0;31m         \u001b[0;32mreturn\u001b[0m \u001b[0m_default_decoder\u001b[0m\u001b[0;34m.\u001b[0m\u001b[0mdecode\u001b[0m\u001b[0;34m(\u001b[0m\u001b[0ms\u001b[0m\u001b[0;34m)\u001b[0m\u001b[0;34m\u001b[0m\u001b[0;34m\u001b[0m\u001b[0m\n\u001b[0m\u001b[1;32m    349\u001b[0m     \u001b[0;32mif\u001b[0m \u001b[0mcls\u001b[0m \u001b[0;32mis\u001b[0m \u001b[0;32mNone\u001b[0m\u001b[0;34m:\u001b[0m\u001b[0;34m\u001b[0m\u001b[0;34m\u001b[0m\u001b[0m\n\u001b[1;32m    350\u001b[0m         \u001b[0mcls\u001b[0m \u001b[0;34m=\u001b[0m \u001b[0mJSONDecoder\u001b[0m\u001b[0;34m\u001b[0m\u001b[0;34m\u001b[0m\u001b[0m\n",
      "\u001b[0;32m~/opt/anaconda3/lib/python3.7/json/decoder.py\u001b[0m in \u001b[0;36mdecode\u001b[0;34m(self, s, _w)\u001b[0m\n\u001b[1;32m    335\u001b[0m \u001b[0;34m\u001b[0m\u001b[0m\n\u001b[1;32m    336\u001b[0m         \"\"\"\n\u001b[0;32m--> 337\u001b[0;31m         \u001b[0mobj\u001b[0m\u001b[0;34m,\u001b[0m \u001b[0mend\u001b[0m \u001b[0;34m=\u001b[0m \u001b[0mself\u001b[0m\u001b[0;34m.\u001b[0m\u001b[0mraw_decode\u001b[0m\u001b[0;34m(\u001b[0m\u001b[0ms\u001b[0m\u001b[0;34m,\u001b[0m \u001b[0midx\u001b[0m\u001b[0;34m=\u001b[0m\u001b[0m_w\u001b[0m\u001b[0;34m(\u001b[0m\u001b[0ms\u001b[0m\u001b[0;34m,\u001b[0m \u001b[0;36m0\u001b[0m\u001b[0;34m)\u001b[0m\u001b[0;34m.\u001b[0m\u001b[0mend\u001b[0m\u001b[0;34m(\u001b[0m\u001b[0;34m)\u001b[0m\u001b[0;34m)\u001b[0m\u001b[0;34m\u001b[0m\u001b[0;34m\u001b[0m\u001b[0m\n\u001b[0m\u001b[1;32m    338\u001b[0m         \u001b[0mend\u001b[0m \u001b[0;34m=\u001b[0m \u001b[0m_w\u001b[0m\u001b[0;34m(\u001b[0m\u001b[0ms\u001b[0m\u001b[0;34m,\u001b[0m \u001b[0mend\u001b[0m\u001b[0;34m)\u001b[0m\u001b[0;34m.\u001b[0m\u001b[0mend\u001b[0m\u001b[0;34m(\u001b[0m\u001b[0;34m)\u001b[0m\u001b[0;34m\u001b[0m\u001b[0;34m\u001b[0m\u001b[0m\n\u001b[1;32m    339\u001b[0m         \u001b[0;32mif\u001b[0m \u001b[0mend\u001b[0m \u001b[0;34m!=\u001b[0m \u001b[0mlen\u001b[0m\u001b[0;34m(\u001b[0m\u001b[0ms\u001b[0m\u001b[0;34m)\u001b[0m\u001b[0;34m:\u001b[0m\u001b[0;34m\u001b[0m\u001b[0;34m\u001b[0m\u001b[0m\n",
      "\u001b[0;32m~/opt/anaconda3/lib/python3.7/json/decoder.py\u001b[0m in \u001b[0;36mraw_decode\u001b[0;34m(self, s, idx)\u001b[0m\n\u001b[1;32m    353\u001b[0m             \u001b[0mobj\u001b[0m\u001b[0;34m,\u001b[0m \u001b[0mend\u001b[0m \u001b[0;34m=\u001b[0m \u001b[0mself\u001b[0m\u001b[0;34m.\u001b[0m\u001b[0mscan_once\u001b[0m\u001b[0;34m(\u001b[0m\u001b[0ms\u001b[0m\u001b[0;34m,\u001b[0m \u001b[0midx\u001b[0m\u001b[0;34m)\u001b[0m\u001b[0;34m\u001b[0m\u001b[0;34m\u001b[0m\u001b[0m\n\u001b[1;32m    354\u001b[0m         \u001b[0;32mexcept\u001b[0m \u001b[0mStopIteration\u001b[0m \u001b[0;32mas\u001b[0m \u001b[0merr\u001b[0m\u001b[0;34m:\u001b[0m\u001b[0;34m\u001b[0m\u001b[0;34m\u001b[0m\u001b[0m\n\u001b[0;32m--> 355\u001b[0;31m             \u001b[0;32mraise\u001b[0m \u001b[0mJSONDecodeError\u001b[0m\u001b[0;34m(\u001b[0m\u001b[0;34m\"Expecting value\"\u001b[0m\u001b[0;34m,\u001b[0m \u001b[0ms\u001b[0m\u001b[0;34m,\u001b[0m \u001b[0merr\u001b[0m\u001b[0;34m.\u001b[0m\u001b[0mvalue\u001b[0m\u001b[0;34m)\u001b[0m \u001b[0;32mfrom\u001b[0m \u001b[0;32mNone\u001b[0m\u001b[0;34m\u001b[0m\u001b[0;34m\u001b[0m\u001b[0m\n\u001b[0m\u001b[1;32m    356\u001b[0m         \u001b[0;32mreturn\u001b[0m \u001b[0mobj\u001b[0m\u001b[0;34m,\u001b[0m \u001b[0mend\u001b[0m\u001b[0;34m\u001b[0m\u001b[0;34m\u001b[0m\u001b[0m\n",
      "\u001b[0;31mJSONDecodeError\u001b[0m: Expecting value: line 1 column 1 (char 0)"
     ]
    }
   ],
   "source": [
    "api.get_model_reaction('iMM904', 'R_2MPPALt')"
   ]
  },
  {
   "cell_type": "code",
   "execution_count": 26,
   "metadata": {},
   "outputs": [
    {
     "data": {
      "text/plain": [
       "{'major_label': 'ModelReaction',\n",
       " 'annotation': '<annotation>\\n          <rdf:RDF xmlns:rdf=\"http://www.w3.org/1999/02/22-rdf-syntax-ns#\" xmlns:bqbiol=\"http://biomodels.net/biology-qualifiers/\">\\n            <rdf:Description rdf:about=\"#R_2MPPALt\">\\n              <bqbiol:is>\\n                <rdf:Bag>\\n                  <rdf:li rdf:resource=\"http://identifiers.org/bigg.reaction/2MPPALt\"/>\\n                  <rdf:li rdf:resource=\"http://identifiers.org/metanetx.reaction/MNXR94812\"/>\\n                </rdf:Bag>\\n              </bqbiol:is>\\n            </rdf:Description>\\n          </rdf:RDF>\\n        </annotation>',\n",
       " 'metaid': 'R_2MPPALt',\n",
       " 'sboTerm': 'SBO:0000375',\n",
       " 'created_at': 1529623168710,\n",
       " 'bios_labels': ['ModelReaction'],\n",
       " 'bios_id': 3153491,\n",
       " 'entry': 'reaction_46498_7@iMM904',\n",
       " 'proxy': False,\n",
       " 'upperFluxBound': 'cobra_default_ub',\n",
       " 'fast': 'false',\n",
       " 'updated_at': 1529623168710,\n",
       " 'reversible': 'true',\n",
       " 'name': '2 methylpropanal transport  extracellular ',\n",
       " 'lowerFluxBound': 'cobra_default_lb',\n",
       " 'id': 'R_2MPPALt'}"
      ]
     },
     "execution_count": 26,
     "metadata": {},
     "output_type": "execute_result"
    }
   ],
   "source": [
    "api.get_bios_node('3153491')"
   ]
  },
  {
   "cell_type": "code",
   "execution_count": 15,
   "metadata": {},
   "outputs": [
    {
     "data": {
      "text/plain": [
       "{'major_label': 'ModelReaction',\n",
       " 'annotation': '<annotation>\\n          <rdf:RDF xmlns:rdf=\"http://www.w3.org/1999/02/22-rdf-syntax-ns#\" xmlns:bqbiol=\"http://biomodels.net/biology-qualifiers/\">\\n            <rdf:Description rdf:about=\"#R_2MPPALt\">\\n              <bqbiol:is>\\n                <rdf:Bag>\\n                  <rdf:li rdf:resource=\"http://identifiers.org/bigg.reaction/2MPPALt\"/>\\n                  <rdf:li rdf:resource=\"http://identifiers.org/metanetx.reaction/MNXR94812\"/>\\n                </rdf:Bag>\\n              </bqbiol:is>\\n            </rdf:Description>\\n          </rdf:RDF>\\n        </annotation>',\n",
       " 'metaid': 'R_2MPPALt',\n",
       " 'sboTerm': 'SBO:0000375',\n",
       " 'created_at': 1529623168710,\n",
       " 'bios_id': 3153491,\n",
       " 'entry': 'reaction_46498_7@iMM904',\n",
       " 'proxy': False,\n",
       " 'upperFluxBound': 'cobra_default_ub',\n",
       " 'fast': 'false',\n",
       " 'updated_at': 1529623168710,\n",
       " 'bios_stoichiometry': {'r': [['M_2mppal_e', 3152298, '1']],\n",
       "  'l': [['M_2mppal_c', 3152297, '1']]},\n",
       " 'reversible': 'true',\n",
       " 'name': '2 methylpropanal transport  extracellular ',\n",
       " 'lowerFluxBound': 'cobra_default_lb',\n",
       " 'id': 'R_2MPPALt'}"
      ]
     },
     "execution_count": 15,
     "metadata": {},
     "output_type": "execute_result"
    }
   ],
   "source": [
    "reactions = api.get_model_reactions('iMM904')\n",
    "reactions[0]"
   ]
  },
  {
   "cell_type": "code",
   "execution_count": 16,
   "metadata": {},
   "outputs": [
    {
     "data": {
      "text/plain": [
       "[{'major_label': 'ModelReaction',\n",
       "  'annotation': '<annotation>\\n          <rdf:RDF xmlns:rdf=\"http://www.w3.org/1999/02/22-rdf-syntax-ns#\" xmlns:bqbiol=\"http://biomodels.net/biology-qualifiers/\">\\n            <rdf:Description rdf:about=\"#R_PYK\">\\n              <bqbiol:is>\\n                <rdf:Bag>\\n                  <rdf:li rdf:resource=\"http://identifiers.org/bigg.reaction/PYK\"/>\\n                  <rdf:li rdf:resource=\"http://identifiers.org/biocyc/META:PEPDEPHOS-RXN\"/>\\n                  <rdf:li rdf:resource=\"http://identifiers.org/ec-code/2.7.1.40\"/>\\n                  <rdf:li rdf:resource=\"http://identifiers.org/kegg.reaction/R00200\"/>\\n                  <rdf:li rdf:resource=\"http://identifiers.org/metanetx.reaction/MNXR103371\"/>\\n                  <rdf:li rdf:resource=\"http://identifiers.org/rhea/18157\"/>\\n                  <rdf:li rdf:resource=\"http://identifiers.org/rhea/18158\"/>\\n                  <rdf:li rdf:resource=\"http://identifiers.org/rhea/18159\"/>\\n                  <rdf:li rdf:resource=\"http://identifiers.org/rhea/18160\"/>\\n                </rdf:Bag>\\n              </bqbiol:is>\\n            </rdf:Description>\\n          </rdf:RDF>\\n        </annotation>',\n",
       "  'metaid': 'R_PYK',\n",
       "  'sboTerm': 'SBO:0000375',\n",
       "  'created_at': 1529623173691,\n",
       "  'bios_rxn_gpr_data': {'major_label': 'ModelGPR',\n",
       "   'entry': '(G_YAL038W or G_YOR347C)@iMM904',\n",
       "   'updated_at': 1529636710293,\n",
       "   'created_at': 1529623173696},\n",
       "  'bios_id': 3155404,\n",
       "  'proxy': False,\n",
       "  'entry': 'reaction_85605_7@iMM904',\n",
       "  'upperFluxBound': 'cobra_default_ub',\n",
       "  'bios_rxn_gpr_id': 3155405,\n",
       "  'fast': 'false',\n",
       "  'updated_at': 1529623173691,\n",
       "  'bios_stoichiometry': {'r': [['M_atp_c', 3152552, '1'],\n",
       "    ['M_pyr_c', 3153259, '1']],\n",
       "   'l': [['M_pep_c', 3153178, '1'],\n",
       "    ['M_adp_c', 3152476, '1'],\n",
       "    ['M_h_c', 3152871, '1']]},\n",
       "  'reversible': 'false',\n",
       "  'name': 'Pyruvate kinase',\n",
       "  'lowerFluxBound': 'cobra_0_bound',\n",
       "  'id': 'R_PYK'}]"
      ]
     },
     "execution_count": 16,
     "metadata": {},
     "output_type": "execute_result"
    }
   ],
   "source": [
    "list(filter(lambda x : 'PYK' in x['id'], reactions))"
   ]
  },
  {
   "cell_type": "code",
   "execution_count": 3,
   "metadata": {},
   "outputs": [],
   "source": [
    "species = api.get_model_species('iYO844')"
   ]
  },
  {
   "cell_type": "code",
   "execution_count": 4,
   "metadata": {},
   "outputs": [
    {
     "data": {
      "text/plain": [
       "{'major_label': 'MetaboliteSpecie',\n",
       " 'annotation': '<annotation>\\n          <rdf:RDF xmlns:rdf=\"http://www.w3.org/1999/02/22-rdf-syntax-ns#\" xmlns:bqbiol=\"http://biomodels.net/biology-qualifiers/\">\\n            <rdf:Description rdf:about=\"#M_nh4_e\">\\n              <bqbiol:is>\\n                <rdf:Bag>\\n                  <rdf:li rdf:resource=\"http://identifiers.org/bigg.metabolite/nh4\"/>\\n                  <rdf:li rdf:resource=\"http://identifiers.org/biocyc/META:AMMONIA\"/>\\n                  <rdf:li rdf:resource=\"http://identifiers.org/biocyc/META:AMMONIUM\"/>\\n                  <rdf:li rdf:resource=\"http://identifiers.org/chebi/CHEBI:13405\"/>\\n                  <rdf:li rdf:resource=\"http://identifiers.org/chebi/CHEBI:13406\"/>\\n                  <rdf:li rdf:resource=\"http://identifiers.org/chebi/CHEBI:13407\"/>\\n                  <rdf:li rdf:resource=\"http://identifiers.org/chebi/CHEBI:135980\"/>\\n                  <rdf:li rdf:resource=\"http://identifiers.org/chebi/CHEBI:13771\"/>\\n                  <rdf:li rdf:resource=\"http://identifiers.org/chebi/CHEBI:16134\"/>\\n                  <rdf:li rdf:resource=\"http://identifiers.org/chebi/CHEBI:22533\"/>\\n                  <rdf:li rdf:resource=\"http://identifiers.org/chebi/CHEBI:22534\"/>\\n                  <rdf:li rdf:resource=\"http://identifiers.org/chebi/CHEBI:28938\"/>\\n                  <rdf:li rdf:resource=\"http://identifiers.org/chebi/CHEBI:29337\"/>\\n                  <rdf:li rdf:resource=\"http://identifiers.org/chebi/CHEBI:29340\"/>\\n                  <rdf:li rdf:resource=\"http://identifiers.org/chebi/CHEBI:44269\"/>\\n                  <rdf:li rdf:resource=\"http://identifiers.org/chebi/CHEBI:44284\"/>\\n                  <rdf:li rdf:resource=\"http://identifiers.org/chebi/CHEBI:44404\"/>\\n                  <rdf:li rdf:resource=\"http://identifiers.org/chebi/CHEBI:49783\"/>\\n                  <rdf:li rdf:resource=\"http://identifiers.org/chebi/CHEBI:7434\"/>\\n                  <rdf:li rdf:resource=\"http://identifiers.org/chebi/CHEBI:7435\"/>\\n                  <rdf:li rdf:resource=\"http://identifiers.org/hmdb/HMDB00051\"/>\\n                  <rdf:li rdf:resource=\"http://identifiers.org/hmdb/HMDB41827\"/>\\n                  <rdf:li rdf:resource=\"http://identifiers.org/kegg.compound/C00014\"/>\\n                  <rdf:li rdf:resource=\"http://identifiers.org/kegg.compound/C01342\"/>\\n                  <rdf:li rdf:resource=\"http://identifiers.org/kegg.drug/D02915\"/>\\n                  <rdf:li rdf:resource=\"http://identifiers.org/kegg.drug/D02916\"/>\\n                  <rdf:li rdf:resource=\"http://identifiers.org/metanetx.chemical/MNXM15\"/>\\n                  <rdf:li rdf:resource=\"http://identifiers.org/seed.compound/cpd00013\"/>\\n                  <rdf:li rdf:resource=\"http://identifiers.org/seed.compound/cpd19013\"/>\\n                </rdf:Bag>\\n              </bqbiol:is>\\n            </rdf:Description>\\n          </rdf:RDF>\\n        </annotation>',\n",
       " 'bios_references': [['META:AMMONIUM', 'MetaCyc'],\n",
       "  ['C01342', 'LigandCompound'],\n",
       "  ['nh4', 'BiGGMetabolite'],\n",
       "  ['nh4', 'BiGG'],\n",
       "  ['C00014', 'LigandCompound'],\n",
       "  ['cpd00013', 'ModelSeed']],\n",
       " 'charge': '1',\n",
       " 'constant': 'false',\n",
       " 'bios_spi_degree': 2,\n",
       " 'metaid': 'M_nh4_e',\n",
       " 'hasOnlySubstanceUnits': 'false',\n",
       " 'created_at': 1529624481216,\n",
       " 'bios_id': 3246060,\n",
       " 'proxy': False,\n",
       " 'entry': 'species_38543_7@iYO844',\n",
       " 'boundaryCondition': 'false',\n",
       " 'updated_at': 1529624481216,\n",
       " 'chemicalFormula': 'H4N',\n",
       " 'compartment': 'e',\n",
       " 'name': 'Ammonium',\n",
       " 'id': 'M_nh4_e'}"
      ]
     },
     "execution_count": 4,
     "metadata": {},
     "output_type": "execute_result"
    }
   ],
   "source": [
    "species[0]"
   ]
  },
  {
   "cell_type": "code",
   "execution_count": 6,
   "metadata": {},
   "outputs": [
    {
     "data": {
      "text/plain": [
       "{'id': 'M_s_c',\n",
       " 'entry': 'species_41641_7@iYO844',\n",
       " 'name': 'Sulfur',\n",
       " 'source': None,\n",
       " 'version': None,\n",
       " 'description': '',\n",
       " 'formula': None,\n",
       " 'metaboliteClass': 'COMPOUND',\n",
       " 'comparment': None,\n",
       " 'entityType': None,\n",
       " 'crossreferences': [{'id': 2707419,\n",
       "   'type': 'DATABASE',\n",
       "   'ref': 'ModelSeed',\n",
       "   'value': 'cpd00074',\n",
       "   'source': 'UNKNOWN'},\n",
       "  {'id': 3867656,\n",
       "   'type': 'DATABASE',\n",
       "   'ref': 'MetaCyc',\n",
       "   'value': 'META:Elemental-Sulfur',\n",
       "   'source': 'UNKNOWN'},\n",
       "  {'id': 3934644,\n",
       "   'type': 'DATABASE',\n",
       "   'ref': 'LigandCompound',\n",
       "   'value': 'C00087',\n",
       "   'source': 'UNKNOWN'},\n",
       "  {'id': 2656706,\n",
       "   'type': 'DATABASE',\n",
       "   'ref': 'BiGGMetabolite',\n",
       "   'value': 's',\n",
       "   'source': 'UNKNOWN'},\n",
       "  {'id': 2625814,\n",
       "   'type': 'DATABASE',\n",
       "   'ref': 'BiGG',\n",
       "   'value': 's',\n",
       "   'source': 'UNKNOWN'}],\n",
       " 'properties': {'major_label': 'MetaboliteSpecie',\n",
       "  'annotation': '<annotation>\\n          <rdf:RDF xmlns:rdf=\"http://www.w3.org/1999/02/22-rdf-syntax-ns#\" xmlns:bqbiol=\"http://biomodels.net/biology-qualifiers/\">\\n            <rdf:Description rdf:about=\"#M_s_c\">\\n              <bqbiol:is>\\n                <rdf:Bag>\\n                  <rdf:li rdf:resource=\"http://identifiers.org/bigg.metabolite/s\"/>\\n                  <rdf:li rdf:resource=\"http://identifiers.org/metanetx.chemical/MNXM162285\"/>\\n                  <rdf:li rdf:resource=\"http://identifiers.org/seed.compound/cpd00074\"/>\\n                </rdf:Bag>\\n              </bqbiol:is>\\n            </rdf:Description>\\n          </rdf:RDF>\\n        </annotation>',\n",
       "  'charge': '0',\n",
       "  'constant': 'false',\n",
       "  'metaid': 'M_s_c',\n",
       "  'hasOnlySubstanceUnits': 'false',\n",
       "  'created_at': 1529624481473,\n",
       "  'proxy': False,\n",
       "  'entry': 'species_41641_7@iYO844',\n",
       "  'boundaryCondition': 'false',\n",
       "  'updated_at': 1529624481473,\n",
       "  'chemicalFormula': 'S',\n",
       "  'compartment': 'c',\n",
       "  'name': 'Sulfur',\n",
       "  'id': 'M_s_c'},\n",
       " 'reactionDegree': 1,\n",
       " 'enzymeIdSet': [],\n",
       " 'reactionIdSet': [],\n",
       " 'reactionMap': {},\n",
       " 'enzymeMap': {},\n",
       " 'bios_id': 3246178}"
      ]
     },
     "execution_count": 6,
     "metadata": {},
     "output_type": "execute_result"
    }
   ],
   "source": [
    "api.get_model_specie('iYO844', '3246178')"
   ]
  },
  {
   "cell_type": "code",
   "execution_count": 4,
   "metadata": {},
   "outputs": [],
   "source": [
    "rxn = api.get_model_reaction('iYO844', '3246964')"
   ]
  },
  {
   "cell_type": "code",
   "execution_count": 5,
   "metadata": {},
   "outputs": [
    {
     "data": {
      "text/plain": [
       "{'id': 3246964,\n",
       " 'entry': 'reaction_57988_7@iYO844',\n",
       " 'name': 'EX fol LPAREN e RPAREN ',\n",
       " 'source': None,\n",
       " 'version': None,\n",
       " 'description': '',\n",
       " 'orientation': 'LeftToRight',\n",
       " 'translocation': False,\n",
       " 'reactantStoichiometry': {'3245782': 1.0},\n",
       " 'productStoichiometry': {},\n",
       " 'geneRule': None,\n",
       " 'genes': [],\n",
       " 'lowerBound': None,\n",
       " 'upperBound': None,\n",
       " 'containerReversible': False,\n",
       " 'entityType': 'REACTION',\n",
       " 'subsystem': None,\n",
       " 'left': [],\n",
       " 'right': [],\n",
       " 'crossreferences': [],\n",
       " 'stoichiometry': {'3245782': -1.0},\n",
       " 'rightStoichiometry': {},\n",
       " 'leftStoichiometry': {'3245782': 1.0},\n",
       " 'bios_id': 3246964}"
      ]
     },
     "execution_count": 5,
     "metadata": {},
     "output_type": "execute_result"
    }
   ],
   "source": [
    "rxn.json_data"
   ]
  },
  {
   "cell_type": "code",
   "execution_count": null,
   "metadata": {},
   "outputs": [],
   "source": []
  }
 ],
 "metadata": {
  "kernelspec": {
   "display_name": "Python 3",
   "language": "python",
   "name": "python3"
  },
  "language_info": {
   "codemirror_mode": {
    "name": "ipython",
    "version": 3
   },
   "file_extension": ".py",
   "mimetype": "text/x-python",
   "name": "python",
   "nbconvert_exporter": "python",
   "pygments_lexer": "ipython3",
   "version": "3.7.4"
  }
 },
 "nbformat": 4,
 "nbformat_minor": 4
}
